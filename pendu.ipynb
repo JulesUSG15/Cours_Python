{
 "cells": [
  {
   "cell_type": "code",
   "execution_count": 1,
   "metadata": {},
   "outputs": [
    {
     "name": "stdout",
     "output_type": "stream",
     "text": [
      "Mot caché :  __________\n",
      "Mauvaise lettre ! Il vous reste 9 essais.\n",
      "Mot caché :  __________\n",
      "Mauvaise lettre ! Il vous reste 8 essais.\n",
      "Mot caché :  __________\n",
      "Mot caché :  _____i____\n",
      "Mot caché :  _____it___\n",
      "Mot caché :  _l___it___\n",
      "Mot caché :  _l___it__e\n",
      "Mot caché :  al___it__e\n",
      "Mot caché :  al___it_me\n",
      "Mauvaise lettre ! Il vous reste 7 essais.\n",
      "Mot caché :  al___it_me\n",
      "Mot caché :  al__rit_me\n",
      "Mauvaise lettre ! Il vous reste 6 essais.\n",
      "Mot caché :  al__rit_me\n",
      "Mot caché :  al_orit_me\n",
      "Mot caché :  algorit_me\n",
      "Bravo, vous avez gagné !\n"
     ]
    }
   ],
   "source": [
    "import random\n",
    "\n",
    "# Liste de mots à deviner\n",
    "mots = [\"python\", \"programmation\", \"ordinateur\", \"algorithme\", \"variable\", \"boucle\", \"fonction\"]\n",
    "\n",
    "# Fonction pour choisir un mot aléatoire\n",
    "def choisir_mot():\n",
    "    return random.choice(mots)\n",
    "\n",
    "# Fonction pour afficher le mot caché\n",
    "def afficher_mot_cache(mot, lettres_trouvees):\n",
    "    mot_cache = \"\"\n",
    "    for lettre in mot:\n",
    "        if lettre in lettres_trouvees:\n",
    "            mot_cache += lettre\n",
    "        else:\n",
    "            mot_cache += \"_\"\n",
    "    return mot_cache\n",
    "\n",
    "# Fonction pour vérifier si la lettre est dans le mot\n",
    "def verifier_lettre(lettre, mot):\n",
    "    return lettre in mot\n",
    "\n",
    "# Fonction pour jouer au jeu\n",
    "def jouer():\n",
    "    mot = choisir_mot()\n",
    "    lettres_trouvees = []\n",
    "    nb_essais = 0\n",
    "    max_essais = 10\n",
    "    \n",
    "    while nb_essais < max_essais:\n",
    "        print(\"Mot caché : \", afficher_mot_cache(mot, lettres_trouvees))\n",
    "        lettre = input(\"Entrez une lettre : \")\n",
    "        if verifier_lettre(lettre, mot):\n",
    "            lettres_trouvees.append(lettre)\n",
    "            if mot == afficher_mot_cache(mot, lettres_trouvees):\n",
    "                print(\"Bravo, vous avez gagné !\")\n",
    "                return\n",
    "        else:\n",
    "            nb_essais += 1\n",
    "            print(\"Mauvaise lettre ! Il vous reste\", max_essais - nb_essais, \"essais.\")\n",
    "    \n",
    "    print(\"Dommage, vous avez perdu. Le mot était\", mot)\n",
    "\n",
    "# Lancement du jeu\n",
    "jouer()\n",
    "\n",
    "\n",
    "\n",
    "\n"
   ]
  }
 ],
 "metadata": {
  "kernelspec": {
   "display_name": "base",
   "language": "python",
   "name": "python3"
  },
  "language_info": {
   "codemirror_mode": {
    "name": "ipython",
    "version": 3
   },
   "file_extension": ".py",
   "mimetype": "text/x-python",
   "name": "python",
   "nbconvert_exporter": "python",
   "pygments_lexer": "ipython3",
   "version": "3.7.1"
  },
  "orig_nbformat": 4
 },
 "nbformat": 4,
 "nbformat_minor": 2
}
