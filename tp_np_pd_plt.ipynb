{
  "cells": [
    {
      "cell_type": "code",
      "execution_count": 2,
      "metadata": {
        "id": "L_7Yopnwtex6"
      },
      "outputs": [],
      "source": [
        "import numpy as np\n",
        "import pandas as pd\n",
        "import matplotlib.pyplot as plt"
      ]
    },
    {
      "cell_type": "markdown",
      "metadata": {
        "id": "ELfc8deptex8"
      },
      "source": [
        "En cas d'erreur lors de l'importation, utiliser `pip` comme ceci (ceci doit être fait dans un terminal) :\n",
        "> pip3 install numpy matplotlib pandas"
      ]
    },
    {
      "cell_type": "markdown",
      "metadata": {
        "id": "S4OQweETtex9"
      },
      "source": [
        "# Numpy"
      ]
    },
    {
      "cell_type": "markdown",
      "metadata": {
        "id": "DSTVHVmkVBAk"
      },
      "source": [
        "**Qu'est-ce que NumPy ?**\n",
        "\n",
        "NumPy est une bibliothèque en Python qui fournit des outils pour travailler avec des tableaux multidimensionnels et des fonctions mathématiques pour les manipuler. Elle est particulièrement utile pour effectuer des calculs numériques et scientifiques.\n",
        "\n",
        "**Principales fonctionnalités de NumPy :**\n",
        "\n",
        "**Tableaux NumPy** : Le type de données principal de NumPy est numpy.ndarray, qui représente un tableau multidimensionnel. Ces tableaux peuvent être de n'importe quelle dimension et contenir des éléments de même type.\n",
        "\n",
        "**Calculs mathématiques** : NumPy offre un large éventail de fonctions mathématiques qui peuvent être appliquées à des tableaux entiers en une seule fois. Cela permet d'accélérer les opérations numériques.\n",
        "\n",
        "**Opérations sur les tableaux** : NumPy permet d'effectuer des opérations arithmétiques, logiques et statistiques sur les tableaux. Ces opérations sont souvent vectorisées, ce qui signifie qu'elles sont exécutées de manière efficace sur tout le tableau.\n",
        "\n",
        "**Broadcasting** : Cette fonctionnalité permet de combiner des tableaux de formes différentes pendant les opérations. NumPy s'occupe automatiquement de l'extension ou la réplication des tableaux pour les faire correspondre.\n",
        "\n",
        "**Pourquoi utiliser NumPy ?**\n",
        "\n",
        "**Efficacité :** Les opérations NumPy sont souvent beaucoup plus rapides que les boucles Python traditionnelles car elles sont implémentées en C. Cela rend NumPy particulièrement adapté au calcul scientifique et numérique.\n",
        "\n",
        "**Traitement de données :** NumPy est essentiel pour les tâches liées à la manipulation et à l'analyse de données. Il est utilisé dans des domaines tels que l'apprentissage automatique, la vision par ordinateur, la simulation, etc.\n",
        "\n",
        "**Compatibilité avec d'autres bibliothèques :** NumPy est largement utilisé et est une dépendance pour de nombreuses autres bibliothèques Python populaires comme Pandas, Matplotlib, SciPy, etc.\n",
        "\n",
        "**Liberté d'expression :** NumPy offre une syntaxe concise et puissante pour effectuer des opérations complexes sur les tableaux, ce qui facilite la mise en œuvre d'algorithmes avancés."
      ]
    },
    {
      "cell_type": "code",
      "execution_count": 3,
      "metadata": {
        "colab": {
          "base_uri": "https://localhost:8080/"
        },
        "id": "ss4TMrlotex-",
        "outputId": "08d27da3-147f-40df-dbde-c3c3dec387e2"
      },
      "outputs": [
        {
          "name": "stdout",
          "output_type": "stream",
          "text": [
            "['ALLOW_THREADS', 'AxisError', 'BUFSIZE', 'Bytes0', 'CLIP', 'ComplexWarning', 'DataSource', 'Datetime64', 'ERR_CALL', 'ERR_DEFAULT', 'ERR_IGNORE', 'ERR_LOG', 'ERR_PRINT', 'ERR_RAISE', 'ERR_WARN', 'FLOATING_POINT_SUPPORT', 'FPE_DIVIDEBYZERO', 'FPE_INVALID', 'FPE_OVERFLOW', 'FPE_UNDERFLOW', 'False_', 'Inf', 'Infinity', 'MAXDIMS', 'MAY_SHARE_BOUNDS', 'MAY_SHARE_EXACT', 'MachAr', 'ModuleDeprecationWarning', 'NAN', 'NINF', 'NZERO', 'NaN', 'PINF', 'PZERO', 'RAISE', 'RankWarning', 'SHIFT_DIVIDEBYZERO', 'SHIFT_INVALID', 'SHIFT_OVERFLOW', 'SHIFT_UNDERFLOW', 'ScalarType', 'Str0', 'Tester', 'TooHardError', 'True_', 'UFUNC_BUFSIZE_DEFAULT', 'UFUNC_PYVALS_NAME', 'Uint64', 'VisibleDeprecationWarning', 'WRAP', '_NoValue', '_UFUNC_API', '__NUMPY_SETUP__', '__all__', '__builtins__', '__cached__', '__config__', '__deprecated_attrs__', '__dir__', '__doc__', '__expired_functions__', '__file__', '__getattr__', '__git_version__', '__loader__', '__name__', '__package__', '__path__', '__spec__', '__version__', '_add_newdoc_ufunc', '_distributor_init', '_financial_names', '_globals', '_mat', '_pytesttester', '_version', 'abs', 'absolute', 'add', 'add_docstring', 'add_newdoc', 'add_newdoc_ufunc', 'alen', 'all', 'allclose', 'alltrue', 'amax', 'amin', 'angle', 'any', 'append', 'apply_along_axis', 'apply_over_axes', 'arange', 'arccos', 'arccosh', 'arcsin', 'arcsinh', 'arctan', 'arctan2', 'arctanh', 'argmax', 'argmin', 'argpartition', 'argsort', 'argwhere', 'around', 'array', 'array2string', 'array_equal', 'array_equiv', 'array_repr', 'array_split', 'array_str', 'asanyarray', 'asarray', 'asarray_chkfinite', 'ascontiguousarray', 'asfarray', 'asfortranarray', 'asmatrix', 'asscalar', 'atleast_1d', 'atleast_2d', 'atleast_3d', 'average', 'bartlett', 'base_repr', 'binary_repr', 'bincount', 'bitwise_and', 'bitwise_not', 'bitwise_or', 'bitwise_xor', 'blackman', 'block', 'bmat', 'bool8', 'bool_', 'broadcast', 'broadcast_arrays', 'broadcast_shapes', 'broadcast_to', 'busday_count', 'busday_offset', 'busdaycalendar', 'byte', 'byte_bounds', 'bytes0', 'bytes_', 'c_', 'can_cast', 'cast', 'cbrt', 'cdouble', 'ceil', 'cfloat', 'char', 'character', 'chararray', 'choose', 'clip', 'clongdouble', 'clongfloat', 'column_stack', 'common_type', 'compare_chararrays', 'compat', 'complex128', 'complex256', 'complex64', 'complex_', 'complexfloating', 'compress', 'concatenate', 'conj', 'conjugate', 'convolve', 'copy', 'copysign', 'copyto', 'core', 'corrcoef', 'correlate', 'cos', 'cosh', 'count_nonzero', 'cov', 'cross', 'csingle', 'ctypeslib', 'cumprod', 'cumproduct', 'cumsum', 'datetime64', 'datetime_as_string', 'datetime_data', 'deg2rad', 'degrees', 'delete', 'deprecate', 'deprecate_with_doc', 'diag', 'diag_indices', 'diag_indices_from', 'diagflat', 'diagonal', 'diff', 'digitize', 'disp', 'divide', 'divmod', 'dot', 'double', 'dsplit', 'dstack', 'dtype', 'e', 'ediff1d', 'einsum', 'einsum_path', 'emath', 'empty', 'empty_like', 'equal', 'error_message', 'errstate', 'euler_gamma', 'exp', 'exp2', 'expand_dims', 'expm1', 'extract', 'eye', 'fabs', 'fastCopyAndTranspose', 'fft', 'fill_diagonal', 'find_common_type', 'finfo', 'fix', 'flatiter', 'flatnonzero', 'flexible', 'flip', 'fliplr', 'flipud', 'float128', 'float16', 'float32', 'float64', 'float_', 'float_power', 'floating', 'floor', 'floor_divide', 'fmax', 'fmin', 'fmod', 'format_float_positional', 'format_float_scientific', 'format_parser', 'frexp', 'frombuffer', 'fromfile', 'fromfunction', 'fromiter', 'frompyfunc', 'fromregex', 'fromstring', 'full', 'full_like', 'gcd', 'generic', 'genfromtxt', 'geomspace', 'get_array_wrap', 'get_include', 'get_printoptions', 'getbufsize', 'geterr', 'geterrcall', 'geterrobj', 'gradient', 'greater', 'greater_equal', 'half', 'hamming', 'hanning', 'heaviside', 'histogram', 'histogram2d', 'histogram_bin_edges', 'histogramdd', 'hsplit', 'hstack', 'hypot', 'i0', 'identity', 'iinfo', 'imag', 'in1d', 'index_exp', 'indices', 'inexact', 'inf', 'info', 'infty', 'inner', 'insert', 'int0', 'int16', 'int32', 'int64', 'int8', 'int_', 'intc', 'integer', 'interp', 'intersect1d', 'intp', 'invert', 'is_busday', 'isclose', 'iscomplex', 'iscomplexobj', 'isfinite', 'isfortran', 'isin', 'isinf', 'isnan', 'isnat', 'isneginf', 'isposinf', 'isreal', 'isrealobj', 'isscalar', 'issctype', 'issubclass_', 'issubdtype', 'issubsctype', 'iterable', 'ix_', 'kaiser', 'kron', 'lcm', 'ldexp', 'left_shift', 'less', 'less_equal', 'lexsort', 'lib', 'linalg', 'linspace', 'little_endian', 'load', 'loads', 'loadtxt', 'log', 'log10', 'log1p', 'log2', 'logaddexp', 'logaddexp2', 'logical_and', 'logical_not', 'logical_or', 'logical_xor', 'logspace', 'longcomplex', 'longdouble', 'longfloat', 'longlong', 'lookfor', 'ma', 'mafromtxt', 'mask_indices', 'mat', 'math', 'matmul', 'matrix', 'matrixlib', 'max', 'maximum', 'maximum_sctype', 'may_share_memory', 'mean', 'median', 'memmap', 'meshgrid', 'mgrid', 'min', 'min_scalar_type', 'minimum', 'mintypecode', 'mod', 'modf', 'moveaxis', 'msort', 'multiply', 'nan', 'nan_to_num', 'nanargmax', 'nanargmin', 'nancumprod', 'nancumsum', 'nanmax', 'nanmean', 'nanmedian', 'nanmin', 'nanpercentile', 'nanprod', 'nanquantile', 'nanstd', 'nansum', 'nanvar', 'nbytes', 'ndarray', 'ndenumerate', 'ndfromtxt', 'ndim', 'ndindex', 'nditer', 'negative', 'nested_iters', 'newaxis', 'nextafter', 'nonzero', 'not_equal', 'numarray', 'number', 'obj2sctype', 'object0', 'object_', 'ogrid', 'oldnumeric', 'ones', 'ones_like', 'os', 'outer', 'packbits', 'pad', 'partition', 'percentile', 'pi', 'piecewise', 'place', 'poly', 'poly1d', 'polyadd', 'polyder', 'polydiv', 'polyfit', 'polyint', 'polymul', 'polynomial', 'polysub', 'polyval', 'positive', 'power', 'printoptions', 'prod', 'product', 'promote_types', 'ptp', 'put', 'put_along_axis', 'putmask', 'quantile', 'r_', 'rad2deg', 'radians', 'random', 'ravel', 'ravel_multi_index', 'real', 'real_if_close', 'rec', 'recarray', 'recfromcsv', 'recfromtxt', 'reciprocal', 'record', 'remainder', 'repeat', 'require', 'reshape', 'resize', 'result_type', 'right_shift', 'rint', 'roll', 'rollaxis', 'roots', 'rot90', 'round', 'round_', 'row_stack', 's_', 'safe_eval', 'save', 'savetxt', 'savez', 'savez_compressed', 'sctype2char', 'sctypeDict', 'sctypes', 'searchsorted', 'select', 'set_numeric_ops', 'set_printoptions', 'set_string_function', 'setbufsize', 'setdiff1d', 'seterr', 'seterrcall', 'seterrobj', 'setxor1d', 'shape', 'shares_memory', 'short', 'show_config', 'sign', 'signbit', 'signedinteger', 'sin', 'sinc', 'single', 'singlecomplex', 'sinh', 'size', 'sometrue', 'sort', 'sort_complex', 'source', 'spacing', 'split', 'sqrt', 'square', 'squeeze', 'stack', 'std', 'str0', 'str_', 'string_', 'subtract', 'sum', 'swapaxes', 'sys', 'take', 'take_along_axis', 'tan', 'tanh', 'tensordot', 'test', 'testing', 'tile', 'timedelta64', 'trace', 'tracemalloc_domain', 'transpose', 'trapz', 'tri', 'tril', 'tril_indices', 'tril_indices_from', 'trim_zeros', 'triu', 'triu_indices', 'triu_indices_from', 'true_divide', 'trunc', 'typecodes', 'typename', 'ubyte', 'ufunc', 'uint', 'uint0', 'uint16', 'uint32', 'uint64', 'uint8', 'uintc', 'uintp', 'ulonglong', 'unicode_', 'union1d', 'unique', 'unpackbits', 'unravel_index', 'unsignedinteger', 'unwrap', 'use_hugepage', 'ushort', 'vander', 'var', 'vdot', 'vectorize', 'version', 'void', 'void0', 'vsplit', 'vstack', 'w', 'warnings', 'where', 'who', 'zeros', 'zeros_like']\n"
          ]
        }
      ],
      "source": [
        "# Utilisation de la fonction dir() pour lister les attributs et méthodes du module np (supposé être NumPy)\n",
        "print(dir(np))  # Affiche la liste des noms d'attributs et de méthodes de NumPy"
      ]
    },
    {
      "cell_type": "code",
      "execution_count": 4,
      "metadata": {
        "colab": {
          "base_uri": "https://localhost:8080/"
        },
        "id": "vlAM6ZKitex-",
        "outputId": "b46b0b27-ad1b-4972-b22a-2fb6c5ab69ce"
      },
      "outputs": [
        {
          "name": "stdout",
          "output_type": "stream",
          "text": [
            "1.8 ms ± 73.4 µs per loop (mean ± std. dev. of 7 runs, 100 loops each)\n",
            "78.2 µs ± 9.67 µs per loop (mean ± std. dev. of 7 runs, 10000 loops each)\n"
          ]
        }
      ],
      "source": [
        "# Mesure le temps d'exécution de la fonction sum() de Python pour la somme des nombres de 0 à 99,999\n",
        "%timeit sum(range(100_000))\n",
        "\n",
        "# Mesure le temps d'exécution de la fonction np.sum() de NumPy pour la somme des nombres de 0 à 99,999\n",
        "%timeit np.sum(np.arange(100_000, dtype=np.int64))"
      ]
    },
    {
      "cell_type": "markdown",
      "metadata": {
        "id": "LD5U5zzftex-"
      },
      "source": [
        "## Tableaux à une dimension"
      ]
    },
    {
      "cell_type": "code",
      "execution_count": 5,
      "metadata": {
        "colab": {
          "base_uri": "https://localhost:8080/"
        },
        "id": "b7FvB1j4tex_",
        "outputId": "08c47041-9f5f-4c53-c0ef-a0044f0d6087"
      },
      "outputs": [
        {
          "data": {
            "text/plain": [
              "array([12, 25, 32, 55])"
            ]
          },
          "execution_count": 5,
          "metadata": {},
          "output_type": "execute_result"
        }
      ],
      "source": [
        "# Crée un tableau NumPy à une dimension avec les éléments [12, 25, 32, 55]\n",
        "array = np.array([12, 25, 32, 55])\n",
        "array"
      ]
    },
    {
      "cell_type": "code",
      "execution_count": 6,
      "metadata": {
        "colab": {
          "base_uri": "https://localhost:8080/"
        },
        "id": "x-V44Cv5tex_",
        "outputId": "f31f3dcc-cbf4-4a6b-cec4-d6d7aed18bb9"
      },
      "outputs": [
        {
          "data": {
            "text/plain": [
              "array([0, 1, 2, 3, 4, 5, 6, 7, 8, 9])"
            ]
          },
          "execution_count": 6,
          "metadata": {},
          "output_type": "execute_result"
        }
      ],
      "source": [
        "# Utilise la fonction range() native de Python pour créer une liste de 10 éléments, puis la convertit en un tableau NumPy.\n",
        "builtin_range = np.array(range(10))\n",
        "builtin_range"
      ]
    },
    {
      "cell_type": "code",
      "execution_count": 7,
      "metadata": {
        "colab": {
          "base_uri": "https://localhost:8080/"
        },
        "id": "spZ1KUYstex_",
        "outputId": "77ac8800-d580-42ad-88bc-a83cba5888a9"
      },
      "outputs": [
        {
          "data": {
            "text/plain": [
              "array([0, 1, 2, 3, 4, 5, 6, 7, 8, 9])"
            ]
          },
          "execution_count": 7,
          "metadata": {},
          "output_type": "execute_result"
        }
      ],
      "source": [
        "# Utilise la fonction np.arange() de NumPy pour créer un tableau NumPy contenant les éléments de 0 à 9.\n",
        "numpy_range = np.arange(10)\n",
        "numpy_range"
      ]
    },
    {
      "cell_type": "code",
      "execution_count": 8,
      "metadata": {
        "colab": {
          "base_uri": "https://localhost:8080/"
        },
        "id": "HlstB1Sptex_",
        "outputId": "03f1b680-9896-409c-bfc9-1a4ce9852711"
      },
      "outputs": [
        {
          "data": {
            "text/plain": [
              "array([1. , 1.1, 1.2, 1.3, 1.4, 1.5, 1.6, 1.7, 1.8, 1.9])"
            ]
          },
          "execution_count": 8,
          "metadata": {},
          "output_type": "execute_result"
        }
      ],
      "source": [
        "# Utilise la fonction np.arange() de NumPy pour créer un tableau NumPy contenant les valeurs de 1.0 à 2.0 avec un pas de 0.1.\n",
        "numpy_range_f = np.arange(1.0, 2.0, 0.1)\n",
        "numpy_range_f"
      ]
    },
    {
      "cell_type": "code",
      "execution_count": 9,
      "metadata": {
        "colab": {
          "base_uri": "https://localhost:8080/"
        },
        "id": "LgD2Bb_5teyA",
        "outputId": "e4560e77-27a1-439b-8fcc-d2d7aded9779"
      },
      "outputs": [
        {
          "data": {
            "text/plain": [
              "array([ 0.        ,  0.20408163,  0.40816327,  0.6122449 ,  0.81632653,\n",
              "        1.02040816,  1.2244898 ,  1.42857143,  1.63265306,  1.83673469,\n",
              "        2.04081633,  2.24489796,  2.44897959,  2.65306122,  2.85714286,\n",
              "        3.06122449,  3.26530612,  3.46938776,  3.67346939,  3.87755102,\n",
              "        4.08163265,  4.28571429,  4.48979592,  4.69387755,  4.89795918,\n",
              "        5.10204082,  5.30612245,  5.51020408,  5.71428571,  5.91836735,\n",
              "        6.12244898,  6.32653061,  6.53061224,  6.73469388,  6.93877551,\n",
              "        7.14285714,  7.34693878,  7.55102041,  7.75510204,  7.95918367,\n",
              "        8.16326531,  8.36734694,  8.57142857,  8.7755102 ,  8.97959184,\n",
              "        9.18367347,  9.3877551 ,  9.59183673,  9.79591837, 10.        ])"
            ]
          },
          "execution_count": 9,
          "metadata": {},
          "output_type": "execute_result"
        }
      ],
      "source": [
        "# Utilise la fonction np.linspace() de NumPy pour créer un tableau NumPy de 50 éléments répartis uniformément entre 0.0 et 10.0 inclus.\n",
        "X = np.linspace(0., 10., 50)\n",
        "X"
      ]
    },
    {
      "cell_type": "code",
      "execution_count": 10,
      "metadata": {
        "colab": {
          "base_uri": "https://localhost:8080/",
          "height": 447
        },
        "id": "_k7LdGoeteyA",
        "outputId": "77e7f600-5cec-4c3d-db0a-ad1358521269"
      },
      "outputs": [
        {
          "data": {
            "text/plain": [
              "[<matplotlib.lines.Line2D at 0x7fe710e70320>]"
            ]
          },
          "execution_count": 10,
          "metadata": {},
          "output_type": "execute_result"
        },
        {
          "data": {
            "image/png": "[encoded data removed]",
            "text/plain": [
              "<Figure size 640x480 with 1 Axes>"
            ]
          },
          "metadata": {},
          "output_type": "display_data"
        }
      ],
      "source": [
        "# Utilise la fonction np.cos() de NumPy pour calculer le cosinus de chaque élément dans le tableau X.\n",
        "Y = np.cos(X)\n",
        "\n",
        "# Utilise la bibliothèque matplotlib pour tracer le graphe de Y en fonction de X.\n",
        "plt.plot(X, Y)"
      ]
    },
    {
      "cell_type": "markdown",
      "metadata": {
        "id": "tKaD1JejteyA"
      },
      "source": [
        "### Exrecice\n",
        "Tracer la fonction $x \\longrightarrow cos^2(x) + sin^2(x) + 3$"
      ]
    },
    {
      "cell_type": "code",
      "execution_count": 11,
      "metadata": {
        "id": "iHUSNn0PteyA"
      },
      "outputs": [
        {
          "data": {
            "text/plain": [
              "[<matplotlib.lines.Line2D at 0x7fe700a80c88>]"
            ]
          },
          "execution_count": 11,
          "metadata": {},
          "output_type": "execute_result"
        },
        {
          "data": {
            "image/png": "[encoded data removed]",
            "text/plain": [
              "<Figure size 640x480 with 1 Axes>"
            ]
          },
          "metadata": {},
          "output_type": "display_data"
        }
      ],
      "source": [
        "X = np.linspace(0., 10., 50)\n",
        "Y = np.cos(X)**2 + np.sin(X)**2 + 3\n",
        "plt.plot(X, Y)"
      ]
    },
    {
      "cell_type": "markdown",
      "metadata": {
        "id": "3bOlW_2FteyA"
      },
      "source": [
        "## n-dimension"
      ]
    },
    {
      "cell_type": "code",
      "execution_count": 12,
      "metadata": {
        "colab": {
          "base_uri": "https://localhost:8080/"
        },
        "id": "dY7qQ9ButeyA",
        "outputId": "dcd7789f-340e-4473-ce17-4e4303d2d80a"
      },
      "outputs": [
        {
          "data": {
            "text/plain": [
              "array([[11, 12, 13],\n",
              "       [21, 22, 23]])"
            ]
          },
          "execution_count": 12,
          "metadata": {},
          "output_type": "execute_result"
        }
      ],
      "source": [
        "# Crée un tableau NumPy à deux dimensions (une matrice) avec les éléments donnés.\n",
        "d2 = np.array([[11, 12, 13], [21, 22, 23]])\n",
        "d2"
      ]
    },
    {
      "cell_type": "code",
      "execution_count": 13,
      "metadata": {
        "colab": {
          "base_uri": "https://localhost:8080/"
        },
        "id": "V9AugqJvteyA",
        "outputId": "f4c5acae-1846-4b89-f8d8-db0acb8122da"
      },
      "outputs": [
        {
          "data": {
            "text/plain": [
              "array([[0., 0., 0., 0., 0.],\n",
              "       [0., 0., 0., 0., 0.],\n",
              "       [0., 0., 0., 0., 0.],\n",
              "       [0., 0., 0., 0., 0.],\n",
              "       [0., 0., 0., 0., 0.]])"
            ]
          },
          "execution_count": 13,
          "metadata": {},
          "output_type": "execute_result"
        }
      ],
      "source": [
        "# Crée un tableau NumPy de dimensions 5x5 (une matrice) rempli de zéros.\n",
        "d2_zeros = np.zeros((5,5))\n",
        "d2_zeros"
      ]
    },
    {
      "cell_type": "code",
      "execution_count": 14,
      "metadata": {
        "colab": {
          "base_uri": "https://localhost:8080/"
        },
        "id": "09rCTKpvteyA",
        "outputId": "dd6c3d44-5b50-4911-ab99-20809531a9d8"
      },
      "outputs": [
        {
          "data": {
            "text/plain": [
              "array([[1., 1., 1., 1., 1., 1., 1., 1.],\n",
              "       [1., 1., 1., 1., 1., 1., 1., 1.],\n",
              "       [1., 1., 1., 1., 1., 1., 1., 1.],\n",
              "       [1., 1., 1., 1., 1., 1., 1., 1.],\n",
              "       [1., 1., 1., 1., 1., 1., 1., 1.],\n",
              "       [1., 1., 1., 1., 1., 1., 1., 1.],\n",
              "       [1., 1., 1., 1., 1., 1., 1., 1.],\n",
              "       [1., 1., 1., 1., 1., 1., 1., 1.]])"
            ]
          },
          "execution_count": 14,
          "metadata": {},
          "output_type": "execute_result"
        }
      ],
      "source": [
        "# Crée un tableau NumPy de dimensions 8x8 (une matrice) rempli de uns avec le type de données float.\n",
        "d2_ones = np.ones(dtype=float, shape=(8, 8))\n",
        "d2_ones"
      ]
    },
    {
      "cell_type": "code",
      "execution_count": 15,
      "metadata": {
        "colab": {
          "base_uri": "https://localhost:8080/"
        },
        "id": "Sry5fZJ_teyA",
        "outputId": "ed17e8b1-f85e-4884-d449-c62146768b06"
      },
      "outputs": [
        {
          "name": "stdout",
          "output_type": "stream",
          "text": [
            "[[ 1.09261943 -0.8311646  -0.11150633  2.08206994]\n",
            " [-0.99546144  0.44549758 -1.40287647  0.136772  ]\n",
            " [-0.00761657 -0.34006508  1.87656551  2.56117752]\n",
            " [ 0.95369455  0.21817624 -0.89220167  1.96621104]\n",
            " [-1.8146861   1.42320202 -0.46034731 -1.04386778]\n",
            " [ 1.78306171 -0.24320286 -0.17163646 -0.91424405]]\n"
          ]
        }
      ],
      "source": [
        "# Crée un tableau NumPy de dimensions 6x4 (une matrice) rempli de nombres aléatoires distribués selon une loi normale.\n",
        "d2_random = np.random.randn(6,4)\n",
        "print(d2_random)"
      ]
    },
    {
      "cell_type": "code",
      "execution_count": 16,
      "metadata": {
        "id": "ciTxB9bPteyA"
      },
      "outputs": [],
      "source": [
        "# Utilise la fonction np.indices() de NumPy pour créer deux tableaux NumPy, ix et iy, qui représentent les indices des éléments d'une matrice 3x5.\n",
        "ix, iy = np.indices((3, 5))"
      ]
    },
    {
      "cell_type": "code",
      "execution_count": 17,
      "metadata": {
        "colab": {
          "base_uri": "https://localhost:8080/"
        },
        "id": "k4LYgAe-teyA",
        "outputId": "0d5d40a4-c996-4a13-d299-f7ad4accba03"
      },
      "outputs": [
        {
          "data": {
            "text/plain": [
              "array([[0, 0, 0, 0, 0],\n",
              "       [1, 1, 1, 1, 1],\n",
              "       [2, 2, 2, 2, 2]])"
            ]
          },
          "execution_count": 17,
          "metadata": {},
          "output_type": "execute_result"
        }
      ],
      "source": [
        "ix"
      ]
    },
    {
      "cell_type": "code",
      "execution_count": 18,
      "metadata": {
        "colab": {
          "base_uri": "https://localhost:8080/"
        },
        "id": "_-diGf4MteyB",
        "outputId": "2a502142-b813-4d3e-c5a5-704c7311149a"
      },
      "outputs": [
        {
          "data": {
            "text/plain": [
              "array([[0, 1, 2, 3, 4],\n",
              "       [0, 1, 2, 3, 4],\n",
              "       [0, 1, 2, 3, 4]])"
            ]
          },
          "execution_count": 18,
          "metadata": {},
          "output_type": "execute_result"
        }
      ],
      "source": [
        "iy"
      ]
    },
    {
      "cell_type": "code",
      "execution_count": 19,
      "metadata": {
        "colab": {
          "base_uri": "https://localhost:8080/",
          "height": 430
        },
        "id": "7SQQfZNVteyB",
        "outputId": "baabd91c-1fb8-4ac8-df6f-ec250f6c6190"
      },
      "outputs": [
        {
          "data": {
            "image/png": "[encoded data removed]",
            "text/plain": [
              "<Figure size 640x480 with 1 Axes>"
            ]
          },
          "metadata": {},
          "output_type": "display_data"
        }
      ],
      "source": [
        "# Définit la largeur de l'image comme 16\n",
        "width = 16\n",
        "\n",
        "# Utilise np.indices() pour créer deux tableaux, ix et iy, représentant les indices des éléments d'une matrice de taille (16, 16).\n",
        "ix, iy = np.indices((width, width))\n",
        "\n",
        "# Crée une image binaire où les pixels correspondent à la diagonale supérieure et inférieure sont définis à 1, et les autres à 0.\n",
        "image = (ix == iy) + (ix == ((width - 1) - iy))\n",
        "\n",
        "# Affiche l'image en niveaux de gris.\n",
        "plt.imshow(image, cmap='gray');\n"
      ]
    },
    {
      "cell_type": "markdown",
      "metadata": {
        "id": "6rgxxV2VteyB"
      },
      "source": [
        "## Indexation et slices"
      ]
    },
    {
      "cell_type": "code",
      "execution_count": 20,
      "metadata": {
        "colab": {
          "base_uri": "https://localhost:8080/"
        },
        "id": "AdpVTxUoteyB",
        "outputId": "11708bfc-313c-4ae7-d1c6-797c9f1a3a03"
      },
      "outputs": [
        {
          "data": {
            "text/plain": [
              "array([[9, 0, 1, 7, 8],\n",
              "       [8, 9, 7, 8, 4],\n",
              "       [5, 5, 1, 7, 8],\n",
              "       [3, 8, 9, 6, 6],\n",
              "       [4, 8, 1, 2, 0]])"
            ]
          },
          "execution_count": 20,
          "metadata": {},
          "output_type": "execute_result"
        }
      ],
      "source": [
        "# Crée un tableau NumPy de dimensions 5x5 rempli de nombres entiers aléatoires entre 0 et 9.\n",
        "arr = np.random.randint(low=0, high=10, size=(5,5))\n",
        "arr"
      ]
    },
    {
      "cell_type": "code",
      "execution_count": 21,
      "metadata": {
        "colab": {
          "base_uri": "https://localhost:8080/"
        },
        "id": "t2KdFh6YteyB",
        "outputId": "24d761f5-5535-4e9f-8793-ddfa4a5f5989"
      },
      "outputs": [
        {
          "data": {
            "text/plain": [
              "array([8, 9, 7, 8, 4])"
            ]
          },
          "execution_count": 21,
          "metadata": {},
          "output_type": "execute_result"
        }
      ],
      "source": [
        "arr[1]"
      ]
    },
    {
      "cell_type": "code",
      "execution_count": 22,
      "metadata": {
        "colab": {
          "base_uri": "https://localhost:8080/"
        },
        "id": "W6siDoV5teyB",
        "outputId": "d30a7233-176a-434e-8d8e-c26e3b41108a"
      },
      "outputs": [
        {
          "data": {
            "text/plain": [
              "7"
            ]
          },
          "execution_count": 22,
          "metadata": {},
          "output_type": "execute_result"
        }
      ],
      "source": [
        "arr[1][2]"
      ]
    },
    {
      "cell_type": "code",
      "execution_count": 23,
      "metadata": {
        "colab": {
          "base_uri": "https://localhost:8080/"
        },
        "id": "CxGsj9mwteyB",
        "outputId": "15876708-d2d5-4db6-9a3b-c8a0a6915f34"
      },
      "outputs": [
        {
          "data": {
            "text/plain": [
              "7"
            ]
          },
          "execution_count": 23,
          "metadata": {},
          "output_type": "execute_result"
        }
      ],
      "source": [
        "arr[1, 2]"
      ]
    },
    {
      "cell_type": "code",
      "execution_count": 24,
      "metadata": {
        "colab": {
          "base_uri": "https://localhost:8080/"
        },
        "id": "ImU3bWPJteyB",
        "outputId": "210d494d-aac8-4e1d-fce7-f55a03a3510b"
      },
      "outputs": [
        {
          "data": {
            "text/plain": [
              "array([[  9,   0,   1,   7,   8],\n",
              "       [  8,   9,   7,   8,   4],\n",
              "       [  5,   5,   1,   7,   8],\n",
              "       [  3,   8,   9,   6,   6],\n",
              "       [400, 400, 400, 400, 400]])"
            ]
          },
          "execution_count": 24,
          "metadata": {},
          "output_type": "execute_result"
        }
      ],
      "source": [
        "arr[4] = 400\n",
        "arr"
      ]
    },
    {
      "cell_type": "code",
      "execution_count": 25,
      "metadata": {
        "colab": {
          "base_uri": "https://localhost:8080/"
        },
        "id": "ZvD-BBOSteyB",
        "outputId": "d24ab87b-1147-45c1-8f5b-326ccedf61bf"
      },
      "outputs": [
        {
          "data": {
            "text/plain": [
              "array([  7,   8,   7,   6, 400])"
            ]
          },
          "execution_count": 25,
          "metadata": {},
          "output_type": "execute_result"
        }
      ],
      "source": [
        "# Extraction de la quatrième colonne du tableau 'arr'\n",
        "arr[:, 3]"
      ]
    },
    {
      "cell_type": "code",
      "execution_count": 26,
      "metadata": {
        "colab": {
          "base_uri": "https://localhost:8080/"
        },
        "id": "mkW637Q1teyB",
        "outputId": "a7fe68b4-2351-485e-83c7-64cc05fcc175"
      },
      "outputs": [
        {
          "data": {
            "text/plain": [
              "array([[  9,   0,   1, 300,   8],\n",
              "       [  8,   9,   7, 301,   4],\n",
              "       [  5,   5,   1, 302,   8],\n",
              "       [  3,   8,   9, 303,   6],\n",
              "       [400, 400, 400, 304, 400]])"
            ]
          },
          "execution_count": 26,
          "metadata": {},
          "output_type": "execute_result"
        }
      ],
      "source": [
        "arr[:, 3] = range(300, 305)\n",
        "arr"
      ]
    },
    {
      "cell_type": "code",
      "execution_count": 27,
      "metadata": {
        "colab": {
          "base_uri": "https://localhost:8080/"
        },
        "id": "OiFf5fe6teyB",
        "outputId": "8a6bf8cb-a0cb-4a5a-f9ab-ff10ce589c38"
      },
      "outputs": [
        {
          "data": {
            "text/plain": [
              "array([[  9,   0, 200, 300,   8],\n",
              "       [  8,   9, 200, 301,   4],\n",
              "       [  5,   5, 200, 302,   8],\n",
              "       [  3,   8, 200, 303,   6],\n",
              "       [400, 400, 200, 304, 400]])"
            ]
          },
          "execution_count": 27,
          "metadata": {},
          "output_type": "execute_result"
        }
      ],
      "source": [
        "arr[:, 2] = 200\n",
        "arr"
      ]
    },
    {
      "cell_type": "code",
      "execution_count": 28,
      "metadata": {
        "colab": {
          "base_uri": "https://localhost:8080/"
        },
        "id": "0xy5q85DteyB",
        "outputId": "3d512b84-4318-46bf-be31-17cfa671c3c4"
      },
      "outputs": [
        {
          "data": {
            "text/plain": [
              "array([[ -1,   0,  -1, 300,  -1],\n",
              "       [  8,   9, 200, 301,   4],\n",
              "       [ -1,   5,  -1, 302,  -1],\n",
              "       [  3,   8, 200, 303,   6],\n",
              "       [ -1, 400,  -1, 304,  -1]])"
            ]
          },
          "execution_count": 28,
          "metadata": {},
          "output_type": "execute_result"
        }
      ],
      "source": [
        "# Affecte la valeur -1 à chaque élément situé dans les lignes et colonnes impaires du tableau 'arr'\n",
        "arr[::2,::2] = -1\n",
        "arr"
      ]
    },
    {
      "cell_type": "markdown",
      "metadata": {
        "id": "hsCR_71uteyB"
      },
      "source": [
        "### Indextation par tableau"
      ]
    },
    {
      "cell_type": "code",
      "execution_count": 29,
      "metadata": {
        "colab": {
          "base_uri": "https://localhost:8080/"
        },
        "id": "MpcPpmYeteyB",
        "outputId": "a933603d-814d-4f7c-f4e1-df166a546cc9"
      },
      "outputs": [
        {
          "data": {
            "text/plain": [
              "array([[ -1,   5,  -1, 302,  -1],\n",
              "       [ -1,   0,  -1, 300,  -1],\n",
              "       [  3,   8, 200, 303,   6]])"
            ]
          },
          "execution_count": 29,
          "metadata": {},
          "output_type": "execute_result"
        }
      ],
      "source": [
        "# Sélectionne les lignes d'indices 2, 0 et 3 du tableau 'arr'\n",
        "arr[[2,0,3]]"
      ]
    },
    {
      "cell_type": "code",
      "execution_count": 30,
      "metadata": {
        "colab": {
          "base_uri": "https://localhost:8080/"
        },
        "id": "X-CX_GJEteyB",
        "outputId": "feeb7289-1412-4caf-8aeb-9a002f7de2d0"
      },
      "outputs": [
        {
          "data": {
            "text/plain": [
              "array([[  0, 300],\n",
              "       [  9, 301],\n",
              "       [  5, 302],\n",
              "       [  8, 303],\n",
              "       [400, 304]])"
            ]
          },
          "execution_count": 30,
          "metadata": {},
          "output_type": "execute_result"
        }
      ],
      "source": [
        "arr[:, [1,3]]"
      ]
    },
    {
      "cell_type": "markdown",
      "metadata": {
        "id": "sOSWb7HGteyB"
      },
      "source": [
        "### Indextation par masque"
      ]
    },
    {
      "cell_type": "code",
      "execution_count": 31,
      "metadata": {
        "colab": {
          "base_uri": "https://localhost:8080/"
        },
        "id": "e53hhG9kteyB",
        "outputId": "efcb3d7b-640f-41ea-ae28-711708c26e2f"
      },
      "outputs": [
        {
          "data": {
            "text/plain": [
              "array([[False, False, False, False, False],\n",
              "       [False, False, False, False, False],\n",
              "       [False,  True, False, False, False],\n",
              "       [False, False, False, False, False],\n",
              "       [False, False, False, False, False]])"
            ]
          },
          "execution_count": 31,
          "metadata": {},
          "output_type": "execute_result"
        }
      ],
      "source": [
        "fives = (arr == 5)\n",
        "fives"
      ]
    },
    {
      "cell_type": "code",
      "execution_count": 32,
      "metadata": {
        "colab": {
          "base_uri": "https://localhost:8080/"
        },
        "id": "gjW9O-PfteyB",
        "outputId": "55bda3fb-c8da-46a3-92a3-e7ba1abbb1a7"
      },
      "outputs": [
        {
          "data": {
            "text/plain": [
              "array([[ -1,   0,  -1, 300,  -1],\n",
              "       [  8,   9, 200, 301,   4],\n",
              "       [ -1, 999,  -1, 302,  -1],\n",
              "       [  3,   8, 200, 303,   6],\n",
              "       [ -1, 400,  -1, 304,  -1]])"
            ]
          },
          "execution_count": 32,
          "metadata": {},
          "output_type": "execute_result"
        }
      ],
      "source": [
        "arr[fives] = 999\n",
        "arr"
      ]
    },
    {
      "cell_type": "code",
      "execution_count": 33,
      "metadata": {
        "colab": {
          "base_uri": "https://localhost:8080/"
        },
        "id": "W5tQaqaZteyF",
        "outputId": "1d088c61-fbf6-40ac-e767-975536496d3d"
      },
      "outputs": [
        {
          "data": {
            "text/plain": [
              "array([[ -1,   0,  -1, 300,  -1],\n",
              "       [  8,   9, 200, 301,   4],\n",
              "       [ -1, 999,  -1, 302,  -1],\n",
              "       [  3,   8, 200, 303,   6],\n",
              "       [ -1, 400,  -1, 304,  -1]])"
            ]
          },
          "execution_count": 33,
          "metadata": {},
          "output_type": "execute_result"
        }
      ],
      "source": [
        "np.where(arr == 5, 999, arr)"
      ]
    },
    {
      "cell_type": "markdown",
      "metadata": {
        "id": "NXguTlhMteyF"
      },
      "source": [
        "### Les slices des Liste vs np tableaux"
      ]
    },
    {
      "cell_type": "code",
      "execution_count": 34,
      "metadata": {
        "colab": {
          "base_uri": "https://localhost:8080/"
        },
        "id": "9-27kLVKteyF",
        "outputId": "b8bb85ff-babf-4af5-b02a-9b3f6aa33879"
      },
      "outputs": [
        {
          "data": {
            "text/plain": [
              "[1]"
            ]
          },
          "execution_count": 34,
          "metadata": {},
          "output_type": "execute_result"
        }
      ],
      "source": [
        "liste = [0, 1, 2]\n",
        "liste[1:2]"
      ]
    },
    {
      "cell_type": "code",
      "execution_count": 35,
      "metadata": {
        "colab": {
          "base_uri": "https://localhost:8080/"
        },
        "id": "xsqtstygteyF",
        "outputId": "c08c0d1d-f2d3-40e9-946c-e33dc3c810cf"
      },
      "outputs": [
        {
          "data": {
            "text/plain": [
              "[0, 1, 2]"
            ]
          },
          "execution_count": 35,
          "metadata": {},
          "output_type": "execute_result"
        }
      ],
      "source": [
        "liste[1:2][0] = 999999\n",
        "liste"
      ]
    },
    {
      "cell_type": "code",
      "execution_count": 36,
      "metadata": {
        "colab": {
          "base_uri": "https://localhost:8080/"
        },
        "id": "mtTPXDBRteyF",
        "outputId": "596f4795-5a4d-49b7-b817-5b86a40c47f1"
      },
      "outputs": [
        {
          "data": {
            "text/plain": [
              "array([1])"
            ]
          },
          "execution_count": 36,
          "metadata": {},
          "output_type": "execute_result"
        }
      ],
      "source": [
        "array = np.array([0, 1, 2])\n",
        "array[1:2]"
      ]
    },
    {
      "cell_type": "code",
      "execution_count": 37,
      "metadata": {
        "colab": {
          "base_uri": "https://localhost:8080/"
        },
        "id": "ommSotR9teyF",
        "outputId": "c7b2a88d-4e67-4bbc-eeda-df530ce44688"
      },
      "outputs": [
        {
          "data": {
            "text/plain": [
              "array([     0, 999999,      2])"
            ]
          },
          "execution_count": 37,
          "metadata": {},
          "output_type": "execute_result"
        }
      ],
      "source": [
        "array[1:2][0] = 999999\n",
        "array"
      ]
    },
    {
      "cell_type": "markdown",
      "metadata": {
        "id": "h61V1tV5teyF"
      },
      "source": [
        "### Exercice\n",
        "Ecrire un code pour un afficher un plateau du jeu d'échec\n"
      ]
    },
    {
      "cell_type": "code",
      "execution_count": 81,
      "metadata": {
        "id": "ZlsYr7i-teyF"
      },
      "outputs": [
        {
          "data": {
            "image/png": "[encoded data removed]",
            "text/plain": [
              "<Figure size 640x480 with 1 Axes>"
            ]
          },
          "metadata": {},
          "output_type": "display_data"
        }
      ],
      "source": [
        "chessboard = (np.indices((8, 8)).sum(axis=0)+1) % 2\n",
        "chessboard\n",
        "plt.imshow(chessboard, cmap='gray');\n",
        "\n",
        "\n"
      ]
    },
    {
      "cell_type": "markdown",
      "metadata": {
        "id": "hJc2d7LHteyF"
      },
      "source": [
        "## Forme d'un tableau"
      ]
    },
    {
      "cell_type": "code",
      "execution_count": 44,
      "metadata": {
        "colab": {
          "base_uri": "https://localhost:8080/"
        },
        "id": "FpUjmWg1teyF",
        "outputId": "7c9d8cdc-51ae-4b1f-8872-d94a9d5e0a50"
      },
      "outputs": [
        {
          "name": "stdout",
          "output_type": "stream",
          "text": [
            "[[11 12 13]\n",
            " [21 22 23]]\n",
            "(2, 3)\n",
            "6\n",
            "2\n",
            "8\n",
            "int64\n"
          ]
        }
      ],
      "source": [
        "print(d2)\n",
        "print(d2.shape)\n",
        "print(d2.size)\n",
        "print(d2.ndim)\n",
        "print(d2.itemsize)\n",
        "print(d2.dtype)"
      ]
    },
    {
      "cell_type": "code",
      "execution_count": 45,
      "metadata": {
        "colab": {
          "base_uri": "https://localhost:8080/"
        },
        "id": "hYwU6SlxteyF",
        "outputId": "95596c7c-b6ca-42ae-888f-4ce077fda09b"
      },
      "outputs": [
        {
          "name": "stdout",
          "output_type": "stream",
          "text": [
            "[[11 12]\n",
            " [13 21]\n",
            " [22 23]]\n",
            "(3, 2)\n"
          ]
        }
      ],
      "source": [
        "# Remodelle la matrice d2 en une nouvelle forme de dimensions (3, 2)\n",
        "v2 = d2.reshape((3, 2))\n",
        "# Affiche la nouvelle matrice v2\n",
        "print(v2)\n",
        "# Affiche les dimensions de la matrice v2\n",
        "print(v2.shape)"
      ]
    },
    {
      "cell_type": "code",
      "execution_count": 46,
      "metadata": {
        "colab": {
          "base_uri": "https://localhost:8080/"
        },
        "id": "nnXgFcSiteyF",
        "outputId": "ce72939a-a10a-497d-a8e7-f73dfa728ef5"
      },
      "outputs": [
        {
          "name": "stdout",
          "output_type": "stream",
          "text": [
            "999\n"
          ]
        }
      ],
      "source": [
        "d2[0][0] = 999\n",
        "print(v2[0][0])"
      ]
    },
    {
      "cell_type": "code",
      "execution_count": 47,
      "metadata": {
        "colab": {
          "base_uri": "https://localhost:8080/"
        },
        "id": "rgzAXnm5teyF",
        "outputId": "2d27e025-fdb8-4c58-8222-b3a21ce8a36f"
      },
      "outputs": [
        {
          "name": "stdout",
          "output_type": "stream",
          "text": [
            "Error <class 'ValueError'> cannot reshape array of size 6 into shape (3,4)\n"
          ]
        }
      ],
      "source": [
        "try:\n",
        "    d2.reshape((3, 4))\n",
        "except Exception as e:\n",
        "    print(f\"Error {type(e)} {e}\")"
      ]
    },
    {
      "cell_type": "code",
      "execution_count": 48,
      "metadata": {
        "colab": {
          "base_uri": "https://localhost:8080/"
        },
        "id": "xKdPspX2teyF",
        "outputId": "60265cb1-6e6c-42f9-a60a-8dc086f6a048"
      },
      "outputs": [
        {
          "data": {
            "text/plain": [
              "array([999,  12,  13,  21,  22,  23])"
            ]
          },
          "execution_count": 48,
          "metadata": {},
          "output_type": "execute_result"
        }
      ],
      "source": [
        "v2 = d2.flatten()\n",
        "v2"
      ]
    },
    {
      "cell_type": "code",
      "execution_count": 49,
      "metadata": {
        "colab": {
          "base_uri": "https://localhost:8080/"
        },
        "id": "FCXrNHQvteyF",
        "outputId": "8e05bb04-3d53-4f4d-a885-6341432bd6b0"
      },
      "outputs": [
        {
          "data": {
            "text/plain": [
              "array([[999,  12,  13],\n",
              "       [ 21,  22,  23]])"
            ]
          },
          "execution_count": 49,
          "metadata": {},
          "output_type": "execute_result"
        }
      ],
      "source": [
        "d2"
      ]
    },
    {
      "cell_type": "code",
      "execution_count": 50,
      "metadata": {
        "colab": {
          "base_uri": "https://localhost:8080/"
        },
        "id": "W6-t4mR9teyG",
        "outputId": "8d6b5770-0800-4ff9-f180-4e10831fddbb"
      },
      "outputs": [
        {
          "data": {
            "text/plain": [
              "array([[999,  12,  13],\n",
              "       [ 21,  22,  23]])"
            ]
          },
          "execution_count": 50,
          "metadata": {},
          "output_type": "execute_result"
        }
      ],
      "source": [
        "v2 = 1\n",
        "d2"
      ]
    },
    {
      "cell_type": "markdown",
      "metadata": {
        "id": "NLkhVxtOteyG"
      },
      "source": [
        "## Le Broadcasting"
      ]
    },
    {
      "cell_type": "code",
      "execution_count": 51,
      "metadata": {
        "colab": {
          "base_uri": "https://localhost:8080/"
        },
        "id": "qjcwvOPcteyG",
        "outputId": "186ae55b-bbb7-4282-fcba-8616b752beed"
      },
      "outputs": [
        {
          "data": {
            "text/plain": [
              "array([[100, 100, 100, 100, 100],\n",
              "       [100, 100, 100, 100, 100],\n",
              "       [100, 100, 100, 100, 100]], dtype=int32)"
            ]
          },
          "execution_count": 51,
          "metadata": {},
          "output_type": "execute_result"
        }
      ],
      "source": [
        "a = np.full((3, 5), 100, dtype=np.int32)\n",
        "a"
      ]
    },
    {
      "cell_type": "code",
      "execution_count": 52,
      "metadata": {
        "colab": {
          "base_uri": "https://localhost:8080/"
        },
        "id": "3LD4DzzZteyG",
        "outputId": "1ca2ad05-22ed-438c-97fe-9f8b9a19c2b7"
      },
      "outputs": [
        {
          "name": "stdout",
          "output_type": "stream",
          "text": [
            "3\n"
          ]
        },
        {
          "data": {
            "text/plain": [
              "array([[103, 103, 103, 103, 103],\n",
              "       [103, 103, 103, 103, 103],\n",
              "       [103, 103, 103, 103, 103]], dtype=int32)"
            ]
          },
          "execution_count": 52,
          "metadata": {},
          "output_type": "execute_result"
        }
      ],
      "source": [
        "b = 3\n",
        "print(b)\n",
        "a + b"
      ]
    },
    {
      "cell_type": "code",
      "execution_count": 53,
      "metadata": {
        "colab": {
          "base_uri": "https://localhost:8080/"
        },
        "id": "HlrUvRDKteyG",
        "outputId": "a8e8c9c5-4177-4ffe-ae63-e1e288af511e"
      },
      "outputs": [
        {
          "data": {
            "text/plain": [
              "array([[3, 3, 3, 3, 3],\n",
              "       [3, 3, 3, 3, 3],\n",
              "       [3, 3, 3, 3, 3]], dtype=int32)"
            ]
          },
          "execution_count": 53,
          "metadata": {},
          "output_type": "execute_result"
        }
      ],
      "source": [
        "c = a + b\n",
        "c - a"
      ]
    },
    {
      "cell_type": "code",
      "execution_count": 54,
      "metadata": {
        "colab": {
          "base_uri": "https://localhost:8080/"
        },
        "id": "aRkrQHP2teyG",
        "outputId": "656f238d-6674-4f4a-8be3-28a6672a60e1"
      },
      "outputs": [
        {
          "name": "stdout",
          "output_type": "stream",
          "text": [
            "[1 2 3 4 5]\n",
            "forme de a : (3, 5); forme de b : (5,)\n"
          ]
        },
        {
          "data": {
            "text/plain": [
              "array([[101, 102, 103, 104, 105],\n",
              "       [101, 102, 103, 104, 105],\n",
              "       [101, 102, 103, 104, 105]])"
            ]
          },
          "execution_count": 54,
          "metadata": {},
          "output_type": "execute_result"
        }
      ],
      "source": [
        "b = np.arange(1, 6)\n",
        "print(b)\n",
        "print(f\"forme de a : {a.shape}; forme de b : {b.shape}\")\n",
        "\n",
        "a + b"
      ]
    },
    {
      "cell_type": "code",
      "execution_count": 55,
      "metadata": {
        "colab": {
          "base_uri": "https://localhost:8080/"
        },
        "id": "t8CnSspGteyG",
        "outputId": "91de2434-3518-4a83-bc8f-e648180000b5"
      },
      "outputs": [
        {
          "name": "stdout",
          "output_type": "stream",
          "text": [
            "[[1]\n",
            " [2]\n",
            " [3]]\n",
            "forme de a : (3, 5); forme de b : (3, 1)\n"
          ]
        },
        {
          "data": {
            "text/plain": [
              "array([[101, 101, 101, 101, 101],\n",
              "       [102, 102, 102, 102, 102],\n",
              "       [103, 103, 103, 103, 103]])"
            ]
          },
          "execution_count": 55,
          "metadata": {},
          "output_type": "execute_result"
        }
      ],
      "source": [
        "b = np.arange(1, 4).reshape(3,1)\n",
        "print(b)\n",
        "print(f\"forme de a : {a.shape}; forme de b : {b.shape}\")\n",
        "\n",
        "a + b"
      ]
    },
    {
      "cell_type": "code",
      "execution_count": 57,
      "metadata": {
        "colab": {
          "base_uri": "https://localhost:8080/"
        },
        "id": "nl39oR2pteyG",
        "outputId": "1827d486-c033-4416-c13f-2edb187ce56e"
      },
      "outputs": [
        {
          "name": "stdout",
          "output_type": "stream",
          "text": [
            "[[1]\n",
            " [2]\n",
            " [3]]\n",
            "[100 200 300 400 500]\n",
            "[[101 201 301 401 501]\n",
            " [102 202 302 402 502]\n",
            " [103 203 303 403 503]]\n"
          ]
        }
      ],
      "source": [
        "col = np.arange(1, 4).reshape((3, 1))\n",
        "print(col)\n",
        "\n",
        "line = 100 * np.arange(1, 6)\n",
        "print(line)\n",
        "\n",
        "m = col + line\n",
        "print(m)"
      ]
    },
    {
      "cell_type": "markdown",
      "metadata": {
        "id": "5NjnCCMQteyG"
      },
      "source": [
        "### Exercice\n",
        "Reproduire la sortie du code suivant en exploitant le broadcasting (opération entre deux vecteurs)"
      ]
    },
    {
      "cell_type": "code",
      "execution_count": 58,
      "metadata": {
        "colab": {
          "base_uri": "https://localhost:8080/"
        },
        "id": "IkkPtYI1teyG",
        "outputId": "be43ebfc-b2e9-47dc-cbbb-16bd25020e8a"
      },
      "outputs": [
        {
          "data": {
            "text/plain": [
              "array([[  1,   2,   3,   4,   5,   6,   7,   8,   9,  10],\n",
              "       [ 11,  12,  13,  14,  15,  16,  17,  18,  19,  20],\n",
              "       [ 21,  22,  23,  24,  25,  26,  27,  28,  29,  30],\n",
              "       [ 31,  32,  33,  34,  35,  36,  37,  38,  39,  40],\n",
              "       [ 41,  42,  43,  44,  45,  46,  47,  48,  49,  50],\n",
              "       [ 51,  52,  53,  54,  55,  56,  57,  58,  59,  60],\n",
              "       [ 61,  62,  63,  64,  65,  66,  67,  68,  69,  70],\n",
              "       [ 71,  72,  73,  74,  75,  76,  77,  78,  79,  80],\n",
              "       [ 81,  82,  83,  84,  85,  86,  87,  88,  89,  90],\n",
              "       [ 91,  92,  93,  94,  95,  96,  97,  98,  99, 100]])"
            ]
          },
          "execution_count": 58,
          "metadata": {},
          "output_type": "execute_result"
        }
      ],
      "source": [
        "arr = np.arange(1, 101).reshape((10, 10))\n",
        "arr"
      ]
    },
    {
      "cell_type": "markdown",
      "metadata": {
        "id": "DKYypEE5teyG"
      },
      "source": [
        "# Matplotlib\n",
        "## plot\n",
        "\n",
        "Matplotlib est une bibliothèque de visualisation de données en Python. Elle permet de créer une grande variété de graphiques et de représentations visuelles à partir de données. Voici quelques points clés à savoir sur Matplotlib :\n",
        "\n",
        "**Principales Caractéristiques de Matplotlib :**\n",
        "\n",
        "**Types de Graphiques :** Matplotlib prend en charge la création de divers types de graphiques, tels que les graphiques en barres, les graphiques en dispersion, les graphiques en courbes, les histogrammes, les graphiques en secteurs, les boîtes à moustaches, etc.\n",
        "\n",
        "**Personnalisation :** Matplotlib offre un contrôle précis sur l'apparence des graphiques. Vous pouvez personnaliser les couleurs, les étiquettes, les titres, les légendes, les axes, etc.\n",
        "\n",
        "**Facilité d'utilisation :** Bien que Matplotlib soit très puissant, il est également conçu pour être relativement simple à utiliser. Il fournit des méthodes intuitives pour créer des graphiques.\n",
        "\n",
        "**Intégration avec NumPy :** Matplotlib s'intègre bien avec NumPy et accepte des tableaux NumPy en entrée, ce qui facilite la visualisation des données stockées dans des tableau"
      ]
    },
    {
      "cell_type": "code",
      "execution_count": 59,
      "metadata": {
        "colab": {
          "base_uri": "https://localhost:8080/",
          "height": 466
        },
        "id": "GyfRT7IpteyG",
        "outputId": "214eb0df-c418-4e29-a093-4ebe538350c5"
      },
      "outputs": [
        {
          "data": {
            "text/plain": [
              "Text(0.5, 0, 'x axis')"
            ]
          },
          "execution_count": 59,
          "metadata": {},
          "output_type": "execute_result"
        },
        {
          "data": {
            "image/png": "[encoded data removed]",
            "text/plain": [
              "<Figure size 640x480 with 1 Axes>"
            ]
          },
          "metadata": {},
          "output_type": "display_data"
        }
      ],
      "source": [
        "# Crée un graphique en ligne avec les points (0,0), (1,1), (2,4), (3,9), (4,16), (5,25)\n",
        "plt.plot([0, 1, 2, 3, 4, 5], [0, 1, 4, 9, 16, 25])\n",
        "\n",
        "# Ajoute une étiquette à l'axe y\n",
        "plt.ylabel('some numbers')\n",
        "\n",
        "# Ajoute une étiquette à l'axe x\n",
        "plt.xlabel('x axis')"
      ]
    },
    {
      "cell_type": "code",
      "execution_count": 60,
      "metadata": {
        "colab": {
          "base_uri": "https://localhost:8080/",
          "height": 447
        },
        "id": "yjQ4-dD5teyG",
        "outputId": "07af1d77-bcff-4435-81c7-6737e6a86551"
      },
      "outputs": [
        {
          "data": {
            "text/plain": [
              "[<matplotlib.lines.Line2D at 0x7fe700ad0ba8>]"
            ]
          },
          "execution_count": 60,
          "metadata": {},
          "output_type": "execute_result"
        },
        {
          "data": {
            "image/png": "[encoded data removed]",
            "text/plain": [
              "<Figure size 640x480 with 1 Axes>"
            ]
          },
          "metadata": {},
          "output_type": "display_data"
        }
      ],
      "source": [
        "plt.plot([0, 1, 4, 9, 16, 25])"
      ]
    },
    {
      "cell_type": "code",
      "execution_count": 61,
      "metadata": {
        "colab": {
          "base_uri": "https://localhost:8080/",
          "height": 447
        },
        "id": "yXxZLWOtteyG",
        "outputId": "e1d0edf0-7c4c-4a95-822d-d79ae27d347c"
      },
      "outputs": [
        {
          "data": {
            "text/plain": [
              "[<matplotlib.lines.Line2D at 0x7fe72129f668>]"
            ]
          },
          "execution_count": 61,
          "metadata": {},
          "output_type": "execute_result"
        },
        {
          "data": {
            "image/png": "[encoded data removed]",
            "text/plain": [
              "<Figure size 640x480 with 1 Axes>"
            ]
          },
          "metadata": {},
          "output_type": "display_data"
        }
      ],
      "source": [
        "# Crée un graphique en ligne avec les points (0,0), (1,1), (2,4), (3,9), (4,16), (5,25) en utilisant des marqueurs rouges ('ro')\n",
        "plt.plot([0, 1, 2, 3, 4, 5], [0, 1, 4, 9, 16, 25], 'ro')\n"
      ]
    },
    {
      "cell_type": "code",
      "execution_count": 62,
      "metadata": {
        "colab": {
          "base_uri": "https://localhost:8080/",
          "height": 420
        },
        "id": "B65jgLgiteyH",
        "outputId": "b19dde63-9003-4258-ec60-b0cba2bbd3d8"
      },
      "outputs": [
        {
          "data": {
            "text/plain": [
              "[<matplotlib.lines.Line2D at 0x7fe7089899b0>,\n",
              " <matplotlib.lines.Line2D at 0x7fe708989ac8>,\n",
              " <matplotlib.lines.Line2D at 0x7fe70898eb38>]"
            ]
          },
          "execution_count": 62,
          "metadata": {},
          "output_type": "execute_result"
        },
        {
          "data": {
            "image/png": "[encoded data removed]",
            "text/plain": [
              "<Figure size 400x400 with 1 Axes>"
            ]
          },
          "metadata": {},
          "output_type": "display_data"
        }
      ],
      "source": [
        "# Crée une nouvelle figure avec une taille de 4x4 pouces\n",
        "plt.figure(figsize=(4, 4))\n",
        "\n",
        "# Génère un tableau 't' allant de 0 à 5 par incréments de 0.2\n",
        "t = np.arange(0., 5., 0.2)\n",
        "\n",
        "# Plot t vs t en utilisant des lignes en pointillés rouges ('r--')\n",
        "# Puis plot t vs t^2 en utilisant des carrés bleus ('bs')\n",
        "# Enfin plot t vs t^3 en utilisant des triangles verts ('g^')\n",
        "plt.plot(t, t, 'r--', t, t**2, 'bs', t, t**3, 'g^')"
      ]
    },
    {
      "cell_type": "markdown",
      "metadata": {
        "id": "ptJfmGJcteyH"
      },
      "source": [
        "## hist"
      ]
    },
    {
      "cell_type": "code",
      "execution_count": 64,
      "metadata": {
        "colab": {
          "base_uri": "https://localhost:8080/",
          "height": 472
        },
        "id": "GZ1ZlNJateyH",
        "outputId": "313e819e-fe64-40ce-ad2a-1b550b032955"
      },
      "outputs": [
        {
          "data": {
            "image/png": "[encoded data removed]",
            "text/plain": [
              "<Figure size 640x480 with 1 Axes>"
            ]
          },
          "metadata": {},
          "output_type": "display_data"
        }
      ],
      "source": [
        "# Fixe la graine du générateur de nombres aléatoires pour une reproductibilité\n",
        "np.random.seed(19680801)\n",
        "\n",
        "# Défini la moyenne (mu) et l'écart-type (sigma) pour générer les données\n",
        "mu, sigma = 100, 15\n",
        "\n",
        "# Génère un échantillon de 10 000 données à partir d'une distribution normale\n",
        "x = mu + sigma * np.random.randn(10000)\n",
        "\n",
        "# Crée un histogramme avec 20 bacs, normalisé (density=1), de couleur verte ('g') avec une transparence de 0.75 (alpha=0.75)\n",
        "n, bins, patches = plt.hist(x, 20, density=1, facecolor='g', alpha=0.75)\n",
        "\n",
        "# Ajoute une étiquette à l'axe des x\n",
        "plt.xlabel('x')\n",
        "# Ajoute une étiquette à l'axe des y\n",
        "plt.ylabel('Probability')\n",
        "# Ajoute un titre au graphique\n",
        "plt.title('Histogram figure')\n",
        "# Ajoute un texte à la position (60, 0.025) indiquant les valeurs de mu et sigma\n",
        "plt.text(60, .025, r'$\\mu=100,\\ \\sigma=15$')\n",
        "# Définit les limites des axes x et y\n",
        "plt.axis([40, 160, 0, 0.03])\n",
        "# Active la grille\n",
        "plt.grid(True)\n",
        "# Affiche le graphique\n",
        "plt.show()"
      ]
    },
    {
      "cell_type": "markdown",
      "metadata": {
        "id": "MfNOIVIwteyH"
      },
      "source": [
        "## scatter"
      ]
    },
    {
      "cell_type": "code",
      "execution_count": 65,
      "metadata": {
        "colab": {
          "base_uri": "https://localhost:8080/",
          "height": 452
        },
        "id": "mCbbdsUIteyH",
        "outputId": "98d6d9e7-5d6b-4753-c90c-7428a7b4add6"
      },
      "outputs": [
        {
          "data": {
            "text/plain": [
              "<matplotlib.collections.PathCollection at 0x7fe6c8107e48>"
            ]
          },
          "execution_count": 65,
          "metadata": {},
          "output_type": "execute_result"
        },
        {
          "data": {
            "image/png": "[encoded data removed]",
            "text/plain": [
              "<Figure size 640x480 with 1 Axes>"
            ]
          },
          "metadata": {},
          "output_type": "display_data"
        }
      ],
      "source": [
        "# Fixe la graine du générateur de nombres aléatoires pour une reproductibilité\n",
        "np.random.seed(19680801)\n",
        "\n",
        "# Définit la taille de l'échantillon\n",
        "N = 50\n",
        "\n",
        "# Génère un tableau de 50 valeurs aléatoires entre 0 et 1 pour les coordonnées x et y\n",
        "x = np.random.rand(N)\n",
        "y = np.random.rand(N)\n",
        "\n",
        "# Génère un tableau de 50 valeurs aléatoires entre 0 et 1 pour les couleurs\n",
        "colors = np.random.rand(N)\n",
        "\n",
        "# Crée un nuage de points avec les coordonnées (x, y), les couleurs spécifiées et une transparence de 0.5\n",
        "plt.scatter(x, y, c=colors, alpha=0.5)"
      ]
    },
    {
      "cell_type": "code",
      "execution_count": 66,
      "metadata": {
        "colab": {
          "base_uri": "https://localhost:8080/",
          "height": 452
        },
        "id": "u92qpNhnteyH",
        "outputId": "f369038a-1711-4665-c786-6bcf18765dd0"
      },
      "outputs": [
        {
          "data": {
            "text/plain": [
              "<matplotlib.collections.PathCollection at 0x7fe7309688d0>"
            ]
          },
          "execution_count": 66,
          "metadata": {},
          "output_type": "execute_result"
        },
        {
          "data": {
            "image/png": "[encoded data removed]",
            "text/plain": [
              "<Figure size 640x480 with 1 Axes>"
            ]
          },
          "metadata": {},
          "output_type": "display_data"
        }
      ],
      "source": [
        "# Calcule les aires des points en utilisant la formule de l'aire d'un cercle (pi*r^2) avec des rayons entre 0 et 15\n",
        "area = np.pi * (15 * np.random.rand(N))**2\n",
        "\n",
        "# Crée un nuage de points avec les coordonnées (x, y), les aires spécifiées, les couleurs et une transparence de 0.5\n",
        "plt.scatter(x, y, s=area, c=colors, alpha=0.5)"
      ]
    },
    {
      "cell_type": "markdown",
      "metadata": {
        "id": "6MsghS4NZFx9"
      },
      "source": [
        "#Exercice :\n",
        "Supposons que vous ayez deux ensembles de données, data1 et data2, chacun contenant des valeurs numériques. Votre objectif est de comparer ces deux ensembles visuellement à l'aide de différents types de graphiques.\n",
        "\n",
        "**Question 1 :** Créez un histogramme pour chaque ensemble de données pour visualiser leur distribution.\n",
        "\n",
        "**Question 2 :** Utilisez plt.scatter() pour créer un nuage de points avec data1 sur l'axe des x et data2 sur l'axe des y. Ajoutez une étiquette appropriée à chaque axe."
      ]
    },
    {
      "cell_type": "code",
      "execution_count": 69,
      "metadata": {
        "colab": {
          "base_uri": "https://localhost:8080/",
          "height": 942
        },
        "id": "xo7jQVrkYuBQ",
        "outputId": "47a4f187-14bf-44a8-ea40-9df1f21bc95d"
      },
      "outputs": [
        {
          "data": {
            "text/plain": [
              "<matplotlib.collections.PathCollection at 0x7fe708a82550>"
            ]
          },
          "execution_count": 69,
          "metadata": {},
          "output_type": "execute_result"
        },
        {
          "data": {
            "image/png": "[encoded data removed]",
            "text/plain": [
              "<Figure size 640x480 with 1 Axes>"
            ]
          },
          "metadata": {},
          "output_type": "display_data"
        }
      ],
      "source": [
        "# Génération des ensembles de données fictifs\n",
        "data1 = np.random.normal(loc=0, scale=1, size=50)\n",
        "data2 = np.random.uniform(low=0, high=1, size=50)\n",
        "\n",
        "# Question 1 : Créer un histogramme pour chaque ensemble de données\n",
        "plt.hist(data1, bins=10, density=True)\n",
        "plt.hist(data2, bins=10, density=True)\n",
        "\n",
        "# Question 2 : Créer un nuage de points\n",
        "plt.scatter(data1, data2)\n"
      ]
    },
    {
      "cell_type": "markdown",
      "metadata": {
        "id": "5j3JGw30teyH"
      },
      "source": [
        "# Pandas\n",
        "\n",
        "Pandas est une bibliothèque open-source pour la manipulation et l'analyse de données en Python. Elle fournit des structures de données performantes et faciles à utiliser, ainsi que des outils pour lire et écrire des données dans différents formats.\n",
        "\n",
        "**Voici quelques concepts clés de Pandas :**\n",
        "\n",
        "**DataFrame :** Il s'agit de la structure de données la plus couramment utilisée dans Pandas. Un DataFrame est une table à deux dimensions qui peut contenir des données de différents types (nombres, chaînes de caractères, dates, etc.). Il permet de stocker et de manipuler les données de manière efficace.\n",
        "\n",
        "**Série :** Une série est un tableau à une dimension qui peut contenir des données de différents types. Elle est similaire à une colonne d'un DataFrame.\n",
        "\n",
        "**Index :** L'index est une étiquette associée à chaque ligne ou colonne d'un DataFrame. Il permet de référencer et de sélectionner des données de manière efficace.\n",
        "\n",
        "## Series"
      ]
    },
    {
      "cell_type": "code",
      "execution_count": 70,
      "metadata": {
        "colab": {
          "base_uri": "https://localhost:8080/"
        },
        "id": "ioA4RzEwteyH",
        "outputId": "a72b4716-5d35-4fdd-f734-3eff6f98056e"
      },
      "outputs": [
        {
          "name": "stdout",
          "output_type": "stream",
          "text": [
            "0     0\n",
            "1     1\n",
            "2     4\n",
            "3     9\n",
            "4    16\n",
            "5    25\n",
            "6    36\n",
            "7    49\n",
            "8    64\n",
            "9    81\n",
            "dtype: int64\n"
          ]
        }
      ],
      "source": [
        "s = pd.Series([x**2 for x in range(10)])\n",
        "print(s)"
      ]
    },
    {
      "cell_type": "code",
      "execution_count": 71,
      "metadata": {
        "colab": {
          "base_uri": "https://localhost:8080/"
        },
        "id": "jrtzq24FteyH",
        "outputId": "7871275e-2094-4eae-f49f-70e5a2e9df0f"
      },
      "outputs": [
        {
          "name": "stdout",
          "output_type": "stream",
          "text": [
            "0     0\n",
            "1     1\n",
            "2     4\n",
            "3     9\n",
            "4    16\n",
            "5    25\n",
            "6    36\n",
            "7    49\n",
            "8    64\n",
            "9    81\n",
            "dtype: int8\n"
          ]
        }
      ],
      "source": [
        "s = pd.Series([x**2 for x in range(10)], dtype='int8')\n",
        "print(s)"
      ]
    },
    {
      "cell_type": "code",
      "execution_count": 72,
      "metadata": {
        "colab": {
          "base_uri": "https://localhost:8080/"
        },
        "id": "SUPAAcvxteyH",
        "outputId": "4fe0661d-b5ed-4cc8-fae2-92f6463c639c"
      },
      "outputs": [
        {
          "name": "stdout",
          "output_type": "stream",
          "text": [
            "a     0\n",
            "b     1\n",
            "c     4\n",
            "d     9\n",
            "e    16\n",
            "f    25\n",
            "g    36\n",
            "h    49\n",
            "i    64\n",
            "j    81\n",
            "dtype: int8\n"
          ]
        }
      ],
      "source": [
        "s = pd.Series([x**2 for x in range(10)],\n",
        "              index=[x for x in 'abcdefghij'],\n",
        "              dtype='int8',\n",
        "             )\n",
        "print(s)"
      ]
    },
    {
      "cell_type": "code",
      "execution_count": 73,
      "metadata": {
        "colab": {
          "base_uri": "https://localhost:8080/"
        },
        "id": "qGnaM1EmteyH",
        "outputId": "85107fdb-3d00-4938-f36d-a0a92acebcb6"
      },
      "outputs": [
        {
          "name": "stdout",
          "output_type": "stream",
          "text": [
            "{'a': 0, 'b': 1, 'c': 4, 'd': 9, 'e': 16, 'f': 25, 'g': 36, 'h': 49, 'i': 64, 'j': 81}\n",
            "a     0\n",
            "b     1\n",
            "c     4\n",
            "d     9\n",
            "e    16\n",
            "f    25\n",
            "g    36\n",
            "h    49\n",
            "i    64\n",
            "j    81\n",
            "dtype: int8\n"
          ]
        }
      ],
      "source": [
        "# Création d'un dictionnaire 'd' avec des clés de 'a' à 'j' et des valeurs de 0 à 9 au carré\n",
        "d = {k: v**2 for k, v in zip('abcdefghij', range(10))}\n",
        "\n",
        "# Affichage du dictionnaire 'd'\n",
        "print(d)\n",
        "\n",
        "# Création d'une série 's' à partir du dictionnaire 'd', en spécifiant un type de données 'int8'\n",
        "s = pd.Series(d, dtype='int8')\n",
        "\n",
        "# Affichage de la série 's'\n",
        "print(s)"
      ]
    },
    {
      "cell_type": "code",
      "execution_count": 82,
      "metadata": {
        "colab": {
          "base_uri": "https://localhost:8080/"
        },
        "id": "ZgLz7uvYteyH",
        "outputId": "5de00359-7d0d-41bc-e64f-d482c69ee711"
      },
      "outputs": [
        {
          "name": "stdout",
          "output_type": "stream",
          "text": [
            "Index(['a', 'b', 'c', 'd', 'e', 'f', 'g', 'h', 'i', 'j'], dtype='object')\n"
          ]
        }
      ],
      "source": [
        "print(s.index)"
      ]
    },
    {
      "cell_type": "code",
      "execution_count": 83,
      "metadata": {
        "colab": {
          "base_uri": "https://localhost:8080/"
        },
        "id": "I7uaHH6JteyH",
        "outputId": "153452b8-f5e4-4fe2-fa96-a4bc87d0d415"
      },
      "outputs": [
        {
          "name": "stdout",
          "output_type": "stream",
          "text": [
            "[ 0  1  4  9 16 25 36 49 64 81]\n"
          ]
        }
      ],
      "source": [
        "print(s.values)"
      ]
    },
    {
      "cell_type": "code",
      "execution_count": 84,
      "metadata": {
        "colab": {
          "base_uri": "https://localhost:8080/"
        },
        "id": "0t85KHunteyH",
        "outputId": "2ce9bc0d-f73c-4963-bfb5-f01dd92df2c4"
      },
      "outputs": [
        {
          "name": "stdout",
          "output_type": "stream",
          "text": [
            "a 0\n",
            "b 1\n",
            "c 4\n",
            "d 9\n",
            "e 16\n",
            "f 25\n",
            "g 36\n",
            "h 49\n",
            "i 64\n",
            "j 81\n"
          ]
        }
      ],
      "source": [
        "for k,v in s.items():\n",
        "    print(k, v)"
      ]
    },
    {
      "cell_type": "code",
      "execution_count": 85,
      "metadata": {
        "colab": {
          "base_uri": "https://localhost:8080/"
        },
        "id": "HkxSKUZEteyH",
        "outputId": "9ad3baad-c8a4-4754-9878-30518985e212"
      },
      "outputs": [
        {
          "name": "stdout",
          "output_type": "stream",
          "text": [
            "0\n"
          ]
        }
      ],
      "source": [
        "# accès au label\n",
        "print(s.loc['a'])"
      ]
    },
    {
      "cell_type": "code",
      "execution_count": 86,
      "metadata": {
        "colab": {
          "base_uri": "https://localhost:8080/"
        },
        "id": "2fEm149CteyH",
        "outputId": "4a21dc9b-a862-4a1d-f1bb-032fdbad9818"
      },
      "outputs": [
        {
          "name": "stdout",
          "output_type": "stream",
          "text": [
            "0\n"
          ]
        }
      ],
      "source": [
        "# accès à la position\n",
        "print(s.iloc[0])"
      ]
    },
    {
      "cell_type": "code",
      "execution_count": 87,
      "metadata": {
        "colab": {
          "base_uri": "https://localhost:8080/"
        },
        "id": "Z4i_n4hwteyI",
        "outputId": "72f52d56-cdd9-49e4-b867-b57b6058da33"
      },
      "outputs": [
        {
          "name": "stdout",
          "output_type": "stream",
          "text": [
            "a    0\n",
            "b    1\n",
            "c    4\n",
            "d    9\n",
            "dtype: int8\n"
          ]
        }
      ],
      "source": [
        "print(s.loc['a':'d'])"
      ]
    },
    {
      "cell_type": "code",
      "execution_count": 88,
      "metadata": {
        "colab": {
          "base_uri": "https://localhost:8080/"
        },
        "id": "uUEsBhEuteyI",
        "outputId": "582a9f00-20d2-4dcf-ebbc-b526e16d9c2e"
      },
      "outputs": [
        {
          "name": "stdout",
          "output_type": "stream",
          "text": [
            "a    0\n",
            "b    1\n",
            "c    4\n",
            "dtype: int8\n"
          ]
        }
      ],
      "source": [
        "print(s.iloc[0:3])"
      ]
    },
    {
      "cell_type": "markdown",
      "metadata": {
        "id": "Pem6C5PwteyI"
      },
      "source": [
        "## DataFrame"
      ]
    },
    {
      "cell_type": "code",
      "execution_count": 89,
      "metadata": {
        "colab": {
          "base_uri": "https://localhost:8080/"
        },
        "id": "DM7C877IteyI",
        "outputId": "40a29769-f4a5-40a7-f8e1-37985813f8c6"
      },
      "outputs": [
        {
          "name": "stdout",
          "output_type": "stream",
          "text": [
            "        age  height\n",
            "alice  30.0   150.0\n",
            "bob    20.0     NaN\n",
            "julie  50.0   168.0\n",
            "marc    NaN   170.0\n"
          ]
        }
      ],
      "source": [
        "# Création d'une série 'age' avec des âges et des index correspondants\n",
        "age = pd.Series([30, 20, 50], index=['alice', 'bob', 'julie'])\n",
        "\n",
        "# Création d'une série 'height' avec des tailles et des index correspondants\n",
        "height = pd.Series([150, 170, 168], index=['alice', 'marc', 'julie'])\n",
        "\n",
        "# Création d'un DataFrame 'stat' en utilisant les séries 'age' et 'height' comme colonnes\n",
        "stat = pd.DataFrame({'age': age, 'height': height})\n",
        "\n",
        "# Affichage du DataFrame 'stat'\n",
        "print(stat)"
      ]
    },
    {
      "cell_type": "code",
      "execution_count": 90,
      "metadata": {
        "colab": {
          "base_uri": "https://localhost:8080/"
        },
        "id": "rL_s0UpXteyI",
        "outputId": "c94d38d6-5779-4d61-f5dd-c2ed22a6a6d3"
      },
      "outputs": [
        {
          "name": "stdout",
          "output_type": "stream",
          "text": [
            "        age  height  city\n",
            "alice  30.0   150.0  Nice\n",
            "bob    20.0     NaN  Nice\n",
            "julie  50.0   168.0  Nice\n",
            "marc    NaN   170.0  Nice\n"
          ]
        }
      ],
      "source": [
        "stat = pd.DataFrame({'age': age, 'height': height, 'city': 'Nice'})\n",
        "print(stat)"
      ]
    },
    {
      "cell_type": "markdown",
      "metadata": {
        "id": "vJ1cmfd5teyI"
      },
      "source": [
        "### Exercice\n",
        "\n",
        "Quel est la moyenne de tous les âges ?"
      ]
    },
    {
      "cell_type": "code",
      "execution_count": null,
      "metadata": {
        "id": "ROp1Wl6ZteyI"
      },
      "outputs": [],
      "source": []
    },
    {
      "cell_type": "markdown",
      "metadata": {
        "id": "3f07IjLateyI"
      },
      "source": [
        "### Exercice\n",
        "Définir une fonction `matdiag` qui\n",
        "\n",
        "1. accepte un paramètre qui est une liste de nombres [$x_1$, $x_2$, …, $x_n$]\n",
        "1. retourne une matrice carrée diagonale dont les éléments valent\n",
        "\n",
        "$$\n",
        "m_{ii} = x_i\n",
        "$$\n",
        "$$\n",
        "m_{ij} = 0 \\ pour\\  i ≠ j\n",
        "$$"
      ]
    },
    {
      "cell_type": "code",
      "execution_count": null,
      "metadata": {
        "id": "b7PAU7RbteyI"
      },
      "outputs": [],
      "source": []
    },
    {
      "cell_type": "markdown",
      "metadata": {
        "id": "oltmMbs_teyI"
      },
      "source": [
        "### Exercice\n",
        "\n",
        "Définir une fonction `xixj` qui\n",
        "\n",
        "1. accepte un nombre quelconque de paramètres, $x_1$, $x_2$, …, $x_n$, tous des flottants\n",
        "1. retourne une matrice carrée symétrique $M$ dont les termes valent\n",
        "\n",
        "$$\n",
        "m_{ij} = x_i . x_j\n",
        "$$"
      ]
    },
    {
      "cell_type": "code",
      "execution_count": null,
      "metadata": {
        "id": "1UiP8xkcteyI"
      },
      "outputs": [],
      "source": []
    }
  ],
  "metadata": {
    "colab": {
      "provenance": []
    },
    "kernelspec": {
      "display_name": "Python 3.8.6 64-bit",
      "language": "python",
      "name": "python3"
    },
    "language_info": {
      "codemirror_mode": {
        "name": "ipython",
        "version": 3
      },
      "file_extension": ".py",
      "mimetype": "text/x-python",
      "name": "python",
      "nbconvert_exporter": "python",
      "pygments_lexer": "ipython3",
      "version": "3.7.1"
    },
    "orig_nbformat": 4,
    "vscode": {
      "interpreter": {
        "hash": "448e24ce0c94f12ad1e96cb472225ef4643b152b7bb27b8eb202d4dbd38c959a"
      }
    }
  },
  "nbformat": 4,
  "nbformat_minor": 0
}
