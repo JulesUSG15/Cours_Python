{
 "cells": [
  {
   "attachments": {},
   "cell_type": "markdown",
   "metadata": {},
   "source": [
    "# Chargement des données en mémoire\n",
    "\n",
    "## Méthode 1 \n",
    "écrire une fonction en python natif pour charger le fichier *covid_data.csv* dans un tableau de tableaux pour chaque entrée du ficher  "
   ]
  },
  {
   "cell_type": "code",
   "execution_count": 2,
   "metadata": {},
   "outputs": [],
   "source": [
    "import csv\n",
    "def load_data(file_path) :\n",
    "    data = []\n",
    "    with open(file_path, newline='') as f:\n",
    "        lecteur = csv.reader(f, delimiter=',', quotechar='\"')\n",
    "        for ligne in lecteur:\n",
    "            data.append(ligne)\n",
    "    return data"
   ]
  },
  {
   "attachments": {},
   "cell_type": "markdown",
   "metadata": {},
   "source": [
    "## Méthode 2 \n",
    "charger les données en utilisant numpy ou pandas"
   ]
  },
  {
   "cell_type": "code",
   "execution_count": 1,
   "metadata": {},
   "outputs": [],
   "source": [
    "# numpy/pandas data loader\n",
    "\n",
    "import numpy as np\n",
    "import pandas as pd\n",
    "\n",
    "def load_data_np(file_path) :\n",
    "    data = pd.read_csv(file_path, sep=',', header=None)\n",
    "    return data.values\n",
    "\n",
    "def load_data_pd(file_path) :\n",
    "    data = pd.read_csv(file_path, sep=',', header=None)\n",
    "    return data\n"
   ]
  },
  {
   "attachments": {},
   "cell_type": "markdown",
   "metadata": {},
   "source": [
    "comparer la performance des deux méthodes (temps d'éxecution du chargement)."
   ]
  },
  {
   "attachments": {},
   "cell_type": "markdown",
   "metadata": {},
   "source": [
    "# Console de statistiques\n",
    "\n",
    "Créer une classe `CmdStat` responsable de répondre, avec des valeurs ou des plots, aux intérogations de l'utilisateur en ligne de commande. \n",
    "- La base de données de la classe `CmdStat` est la structure de données (de votre choix) contenant les informations du ficher *covid_data.csv*. Cette structure de données est un attribut de la classe `CmdStat`.\n",
    "- La classe `CmdStat` contient plusieurs méthodes :\n",
    "    - Une méthode `terminal` pour gérer les entrées (commandes) et les sorties (affichage).\n",
    "    - Une méthode `parser` pour analyser la commande de l'utilisateur. Cette méthode doit vérifier la syntaxe et extraire les paramètres à passer à/aux méthode(s) responsable(s) de générer une réponse à afficher.\n",
    "    - Une ou un ensesembe de méthodes pour accéder à la structure de données et récupérer l'information demandée.\n",
    "- Les commandes sont sous la forme suivante : `covidstat [--info, --hist, --plt] <information_1, ..., information_n> [--aggregation (optional) <max, min, avg>] [--location (optional)] <location_1, ..., location_m> [--time (optional) <dates, days, months, years>] <value>`\n",
    "- Les informations accessibles sont :\n",
    "    + total_cases\n",
    "    + total_deaths\n",
    "    + total_icu_patients\n",
    "    + total_hosp_patients\n",
    "    + total_tests\n",
    "    + total_positives\n",
    "    + new_cases\n",
    "    + new_deaths\n",
    "    + new_icu_patients\n",
    "    + new_hosp_patients\n",
    "    + new_tests\n",
    "    + new_positives\n",
    "- Les localisations sont celles présentes dans les données.\n",
    "- L'option temps est pour choisir la periode par inetrvalle de dates ou par nombre de derniers jours, mois, ou années. \n",
    "- Voici les tois familles de commandes possibles :\n",
    "    1. **info** : Pour cette famille, l'aggrégation et le temps sont obligatoires. exemples :\n",
    "        + `covidstat --info total_cases --aggregation max --time days 7` output : le maximum des cas totales dans les 7 derniers jours est xx à xx.\n",
    "        + `covidstat --info total_tests --aggregation avg --time months 2 --location Italia` output : la moyenne des tests effectués en Italia les 2 derniers mois est xx. \n",
    "    2. **hist** : L'affichage est un ou plusieurs histogrammes. L'option aggregtion n'est pas acceptée. La seule option temps acceptée est en spécifiant un intervalle de dates. exemple :\n",
    "        + `covidstat --hist new_deaths --time 10-10-2021 10-12-2021 --location France Belgium China India`\n",
    "    3. **plot** : L'affichage est une ou plusieurs courbes. L'option aggregtion n'est pas acceptée. L'absence de l'option localisation est équivalente à lister l'ensemble des pays. L'absence de l'option temps est équivalente à l'intervalle globale.\n",
    "\n",
    "Ne pas oublier de mettre en place une gestion des exceptions et d'écrire un code conforme aux bonnes pratiques mentionnées durant ce module.\n"
   ]
  },
  {
   "cell_type": "code",
   "execution_count": 7,
   "metadata": {},
   "outputs": [],
   "source": [
    "import csv\n",
    "import numpy as np\n",
    "import pandas as pd\n",
    "import argparse\n",
    "import matplotlib.pyplot as plt\n",
    "from datetime import datetime, timedelta\n",
    "\n",
    "class CmdStat():\n",
    "    def __init__(self, file_path):\n",
    "        self.data = self.load_data(file_path)\n",
    "\n",
    "    def terminal(self):\n",
    "        while True:\n",
    "            commande = input(\"covidstat> \")\n",
    "            if commande == \"exit\":\n",
    "                break\n",
    "            try:\n",
    "                resultat = self.parser(commande)\n",
    "                print(resultat)\n",
    "            except Exception as e:\n",
    "                print(\"Erreur : \", e)\n",
    "\n",
    "    def parser(self, commande):\n",
    "        parser = argparse.ArgumentParser(prog=\"covidstat\", description=\"Afficher des statistiques COVID-19.\")\n",
    "        parser.add_argument(\"--info\", choices=[\"total_cases\", \"total_deaths\", \"total_icu_patients\", \"total_hosp_patients\", \"total_tests\", \"total_positives\", \"new_cases\", \"new_deaths\", \"new_icu_patients\", \"new_hosp_patients\", \"new_tests\", \"new_positives\"], help=\"Information à afficher.\")\n",
    "        parser.add_argument(\"--hist\", choices=[\"new_cases\", \"new_deaths\", \"new_icu_patients\", \"new_hosp_patients\", \"new_tests\", \"new_positives\"], help=\"Afficher un histogramme.\")\n",
    "        parser.add_argument(\"--plt\", choices=[\"total_cases\", \"total_deaths\", \"total_icu_patients\", \"total_hosp_patients\", \"total_tests\", \"total_positives\", \"new_cases\", \"new_deaths\", \"new_icu_patients\", \"new_hosp_patients\", \"new_tests\", \"new_positives\"], help=\"Afficher un graphique.\")\n",
    "        parser.add_argument(\"--aggregation\", choices=[\"max\", \"min\", \"avg\"], help=\"Type d'agrégation.\")\n",
    "        parser.add_argument(\"--location\", nargs=\"+\", help=\"Localisation.\")\n",
    "        parser.add_argument(\"--time\", nargs=2, help=\"Période de temps.\")\n",
    "        parser.add_argument(\"value\", type=int, help=\"Valeur.\")\n",
    "        args = parser.parse_args(commande.split())\n",
    "\n",
    "        if args.info:\n",
    "            if not args.aggregation or not args.time or not args.location:\n",
    "                raise ValueError(\"Les options --aggregation, --time et --location sont obligatoires pour l'option --info.\")\n",
    "            resultat = self.info(args.info, args.aggregation, args.time, args.location, args.value)\n",
    "        elif args.hist:\n",
    "            if not args.time:\n",
    "                raise ValueError(\"L'option --time est obligatoire pour l'option --hist.\")\n",
    "            resultat = self.hist(args.hist, args.time, args.location)\n",
    "        elif args.plt:\n",
    "            resultat = self.plt(args.plt, args.time, args.location)\n",
    "        else:\n",
    "            raise ValueError(\"L'option --info, --hist ou --plt est obligatoire.\")\n",
    "\n",
    "        return resultat\n",
    "    \n",
    "    def charger_fichier_csv(self, file_path):\n",
    "        data = []\n",
    "        with open(file_path, newline='') as f:\n",
    "            lecteur = csv.reader(f, delimiter=',', quotechar='\"')\n",
    "            for ligne in lecteur:\n",
    "                data.append(ligne)\n",
    "        return data\n",
    "    \n",
    "    def extraire_data(self, info, location, debut, fin):\n",
    "        data_filtrees = []\n",
    "        for ligne in self.data[1:]:\n",
    "            if ligne[1] == info and ligne[0] in location:\n",
    "                date = datetime.strptime(ligne[2], \"%Y-%m-%d\")\n",
    "                if debut <= date <= fin:\n",
    "                    data_filtrees.append((ligne[0], date, int(ligne[3])))\n",
    "        return data_filtrees\n",
    "    \n",
    "    "
   ]
  },
  {
   "attachments": {},
   "cell_type": "markdown",
   "metadata": {},
   "source": [
    "## Test de la class `CmdStat`"
   ]
  },
  {
   "cell_type": "code",
   "execution_count": null,
   "metadata": {},
   "outputs": [],
   "source": [
    "console = CmdStat()\n",
    "\n",
    "console.terminal()"
   ]
  },
  {
   "attachments": {},
   "cell_type": "markdown",
   "metadata": {},
   "source": [
    "Mettre la classe `Cmd Stat` ainsi que les potentielles méthodes utilitaires dans un module *covidstat.py* et l'invoquer dans le notebook."
   ]
  },
  {
   "cell_type": "code",
   "execution_count": null,
   "metadata": {},
   "outputs": [],
   "source": [
    "import covidstat\n",
    "\n",
    "console = covidstat.CmdStat()\n",
    "\n",
    "console.terminal()"
   ]
  }
 ],
 "metadata": {
  "kernelspec": {
   "display_name": "Python 3",
   "language": "python",
   "name": "python3"
  },
  "language_info": {
   "codemirror_mode": {
    "name": "ipython",
    "version": 3
   },
   "file_extension": ".py",
   "mimetype": "text/x-python",
   "name": "python",
   "nbconvert_exporter": "python",
   "pygments_lexer": "ipython3",
   "version": "3.7.1"
  },
  "orig_nbformat": 4
 },
 "nbformat": 4,
 "nbformat_minor": 2
}
