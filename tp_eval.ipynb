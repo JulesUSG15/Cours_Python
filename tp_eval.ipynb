{
 "cells": [
  {
   "attachments": {},
   "cell_type": "markdown",
   "metadata": {},
   "source": [
    "# Chargement des données en mémoire\n",
    "\n",
    "## Méthode 1 \n",
    "écrire une fonction en python natif pour charger le fichier *covid_data.csv* dans un tableau de tableaux pour chaque entrée du ficher  "
   ]
  },
  {
   "cell_type": "code",
   "execution_count": 32,
   "metadata": {},
   "outputs": [],
   "source": [
    "import csv\n",
    "\n",
    "def charger_fichier_csv(nom_fichier):\n",
    "    tableau = []\n",
    "    with open(nom_fichier, newline='') as f:\n",
    "        lecteur = csv.reader(f, delimiter=',', quotechar='\"')\n",
    "        for ligne in lecteur:\n",
    "            tableau.append(ligne)\n",
    "    return tableau\n",
    "\n",
    "tableau = charger_fichier_csv(\"covid_data.csv\")"
   ]
  },
  {
   "attachments": {},
   "cell_type": "markdown",
   "metadata": {},
   "source": [
    "## Méthode 2 \n",
    "charger les données en utilisant numpy ou pandas"
   ]
  },
  {
   "cell_type": "code",
   "execution_count": 34,
   "metadata": {},
   "outputs": [
    {
     "data": {
      "text/html": [
       "<div>\n",
       "<style scoped>\n",
       "    .dataframe tbody tr th:only-of-type {\n",
       "        vertical-align: middle;\n",
       "    }\n",
       "\n",
       "    .dataframe tbody tr th {\n",
       "        vertical-align: top;\n",
       "    }\n",
       "\n",
       "    .dataframe thead th {\n",
       "        text-align: right;\n",
       "    }\n",
       "</style>\n",
       "<table border=\"1\" class=\"dataframe\">\n",
       "  <thead>\n",
       "    <tr style=\"text-align: right;\">\n",
       "      <th></th>\n",
       "      <th></th>\n",
       "      <th></th>\n",
       "      <th>continent;country;date;total_cases;total_deaths;total_icu_patients;total_hosp_patients;total_tests;total_vaccinations;people_vaccinated;people_fully_vaccinated;median_age;aged_65_older;aged_70_older;population</th>\n",
       "    </tr>\n",
       "  </thead>\n",
       "  <tbody>\n",
       "    <tr>\n",
       "      <th>Asia;Afghanistan;2020-01-03;;;;;;;;;18</th>\n",
       "      <th>6;2</th>\n",
       "      <th>581;1</th>\n",
       "      <td>337;41128772</td>\n",
       "    </tr>\n",
       "    <tr>\n",
       "      <th>Asia;Afghanistan;2020-01-04;;;;;;;;;18</th>\n",
       "      <th>6;2</th>\n",
       "      <th>581;1</th>\n",
       "      <td>337;41128772</td>\n",
       "    </tr>\n",
       "    <tr>\n",
       "      <th>Asia;Afghanistan;2020-01-05;;;;;;;;;18</th>\n",
       "      <th>6;2</th>\n",
       "      <th>581;1</th>\n",
       "      <td>337;41128772</td>\n",
       "    </tr>\n",
       "    <tr>\n",
       "      <th>Asia;Afghanistan;2020-01-06;;;;;;;;;18</th>\n",
       "      <th>6;2</th>\n",
       "      <th>581;1</th>\n",
       "      <td>337;41128772</td>\n",
       "    </tr>\n",
       "    <tr>\n",
       "      <th>Asia;Afghanistan;2020-01-07;;;;;;;;;18</th>\n",
       "      <th>6;2</th>\n",
       "      <th>581;1</th>\n",
       "      <td>337;41128772</td>\n",
       "    </tr>\n",
       "  </tbody>\n",
       "</table>\n",
       "</div>"
      ],
      "text/plain": [
       "                                                 continent;country;date;total_cases;total_deaths;total_icu_patients;total_hosp_patients;total_tests;total_vaccinations;people_vaccinated;people_fully_vaccinated;median_age;aged_65_older;aged_70_older;population\n",
       "Asia;Afghanistan;2020-01-03;;;;;;;;;18 6;2 581;1                                       337;41128772                                                                                                                                                               \n",
       "Asia;Afghanistan;2020-01-04;;;;;;;;;18 6;2 581;1                                       337;41128772                                                                                                                                                               \n",
       "Asia;Afghanistan;2020-01-05;;;;;;;;;18 6;2 581;1                                       337;41128772                                                                                                                                                               \n",
       "Asia;Afghanistan;2020-01-06;;;;;;;;;18 6;2 581;1                                       337;41128772                                                                                                                                                               \n",
       "Asia;Afghanistan;2020-01-07;;;;;;;;;18 6;2 581;1                                       337;41128772                                                                                                                                                               "
      ]
     },
     "execution_count": 34,
     "metadata": {},
     "output_type": "execute_result"
    }
   ],
   "source": [
    "# numpy/pandas data loader\n",
    "import numpy as np\n",
    "import pandas as pd\n",
    "\n",
    "df = pd.read_csv(\"covid_data.csv\")\n",
    "df.head()\n",
    "\n"
   ]
  },
  {
   "attachments": {},
   "cell_type": "markdown",
   "metadata": {},
   "source": [
    "comparer la performance des deux méthodes (temps d'éxecution du chargement)."
   ]
  },
  {
   "attachments": {},
   "cell_type": "markdown",
   "metadata": {},
   "source": [
    "# Console de statistiques\n",
    "\n",
    "Créer une classe `CmdStat` responsable de répondre, avec des valeurs ou des plots, aux intérogations de l'utilisateur en ligne de commande. \n",
    "- La base de données de la classe `CmdStat` est la structure de données (de votre choix) contenant les informations du ficher *covid_data.csv*. Cette structure de données est un attribut de la classe `CmdStat`.\n",
    "- La classe `CmdStat` contient plusieurs méthodes :\n",
    "    - Une méthode `terminal` pour gérer les entrées (commandes) et les sorties (affichage).\n",
    "    - Une méthode `parser` pour analyser la commande de l'utilisateur. Cette méthode doit vérifier la syntaxe et extraire les paramètres à passer à/aux méthode(s) responsable(s) de générer une réponse à afficher.\n",
    "    - Une ou un ensesembe de méthodes pour accéder à la structure de données et récupérer l'information demandée.\n",
    "- Les commandes sont sous la forme suivante : `covidstat [--info, --hist, --plt] <information_1, ..., information_n> [--aggregation (optional) <max, min, avg>] [--location (optional)] <location_1, ..., location_m> [--time (optional) <dates, days, months, years>] <value>`\n",
    "- Les informations accessibles sont :\n",
    "    + total_cases\n",
    "    + total_deaths\n",
    "    + total_icu_patients\n",
    "    + total_hosp_patients\n",
    "    + total_tests\n",
    "    + total_positives\n",
    "    + new_cases\n",
    "    + new_deaths\n",
    "    + new_icu_patients\n",
    "    + new_hosp_patients\n",
    "    + new_tests\n",
    "    + new_positives\n",
    "- Les localisations sont celles présentes dans les données.\n",
    "- L'option temps est pour choisir la periode par inetrvalle de dates ou par nombre de derniers jours, mois, ou années. \n",
    "- Voici les tois familles de commandes possibles :\n",
    "    1. **info** : Pour cette famille, l'aggrégation et le temps sont obligatoires. exemples :\n",
    "        + `covidstat --info total_cases --aggregation max --time days 7` output : le maximum des cas totales dans les 7 derniers jours est xx à xx.\n",
    "        + `covidstat --info total_tests --aggregation avg --time months 2 --location Italia` output : la moyenne des tests effectués en Italia les 2 derniers mois est xx. \n",
    "    2. **hist** : L'affichage est un ou plusieurs histogrammes. L'option aggregtion n'est pas acceptée. La seule option temps acceptée est en spécifiant un intervalle de dates. exemple :\n",
    "        + `covidstat --hist new_deaths --time 10-10-2021 10-12-2021 --location France Belgium China India`\n",
    "    3. **plot** : L'affichage est une ou plusieurs courbes. L'option aggregtion n'est pas acceptée. L'absence de l'option localisation est équivalente à lister l'ensemble des pays. L'absence de l'option temps est équivalente à l'intervalle globale.\n",
    "\n",
    "Ne pas oublier de mettre en place une gestion des exceptions et d'écrire un code conforme aux bonnes pratiques mentionnées durant ce module.\n"
   ]
  },
  {
   "cell_type": "code",
   "execution_count": 35,
   "metadata": {},
   "outputs": [],
   "source": [
    "import csv\n",
    "import argparse\n",
    "import matplotlib.pyplot as plt\n",
    "from datetime import datetime, timedelta\n",
    "\n",
    "class CmdStat():\n",
    "    def __init__(self, fichier):\n",
    "        self.donnees = self.charger_fichier_csv(fichier)\n",
    "\n",
    "    def terminal(self):\n",
    "        while True:\n",
    "            commande = input(\"covidstat> \")\n",
    "            if commande == \"exit\":\n",
    "                break\n",
    "            try:\n",
    "                resultat = self.parser(commande)\n",
    "                print(resultat)\n",
    "            except Exception as e:\n",
    "                print(\"Erreur : \", e)\n",
    "\n",
    "    def parser(self, commande):\n",
    "        parser = argparse.ArgumentParser(prog=\"covidstat\", description=\"Afficher des statistiques COVID-19.\")\n",
    "        parser.add_argument(\"--info\", choices=[\"total_cases\", \"total_deaths\", \"total_icu_patients\", \"total_hosp_patients\", \"total_tests\", \"total_positives\", \"new_cases\", \"new_deaths\", \"new_icu_patients\", \"new_hosp_patients\", \"new_tests\", \"new_positives\"], help=\"Information à afficher.\")\n",
    "        parser.add_argument(\"--hist\", choices=[\"new_cases\", \"new_deaths\", \"new_icu_patients\", \"new_hosp_patients\", \"new_tests\", \"new_positives\"], help=\"Afficher un histogramme.\")\n",
    "        parser.add_argument(\"--plt\", choices=[\"total_cases\", \"total_deaths\", \"total_icu_patients\", \"total_hosp_patients\", \"total_tests\", \"total_positives\", \"new_cases\", \"new_deaths\", \"new_icu_patients\", \"new_hosp_patients\", \"new_tests\", \"new_positives\"], help=\"Afficher un graphique.\")\n",
    "        parser.add_argument(\"--aggregation\", choices=[\"max\", \"min\", \"avg\"], help=\"Type d'agrégation.\")\n",
    "        parser.add_argument(\"--location\", nargs=\"+\", help=\"Localisation.\")\n",
    "        parser.add_argument(\"--time\", nargs=2, help=\"Période de temps.\")\n",
    "        parser.add_argument(\"value\", type=int, help=\"Valeur.\")\n",
    "        args = parser.parse_args(commande.split())\n",
    "\n",
    "        if args.info:\n",
    "            if not args.aggregation or not args.time or not args.location:\n",
    "                raise ValueError(\"Les options --aggregation, --time et --location sont obligatoires pour l'option --info.\")\n",
    "            resultat = self.info(args.info, args.aggregation, args.time, args.location, args.value)\n",
    "        elif args.hist:\n",
    "            if not args.time:\n",
    "                raise ValueError(\"L'option --time est obligatoire pour l'option --hist.\")\n",
    "            resultat = self.hist(args.hist, args.time, args.location)\n",
    "        elif args.plt:\n",
    "            resultat = self.plt(args.plt, args.time, args.location)\n",
    "        else:\n",
    "            raise ValueError(\"L'option --info, --hist ou --plt est obligatoire.\")\n",
    "\n",
    "        return resultat\n",
    "\n",
    "    def charger_fichier_csv(self, nom_fichier):\n",
    "        donnees = []\n",
    "        with open(nom_fichier, newline='') as f:\n",
    "            lecteur = csv.reader(f, delimiter=',', quotechar='\"')\n",
    "            for ligne in lecteur:\n",
    "                donnees.append(ligne)\n",
    "        return donnees\n",
    "\n",
    "    def extraire_donnees(self, info, location, debut, fin):\n",
    "        donnees_filtrees = []\n",
    "        for ligne in self.donnees[1:]:\n",
    "            if ligne[1] == info and ligne[0] in location:\n",
    "                date = datetime.strptime(ligne[2], \"%Y-%m-%d\")\n",
    "                if debut <= date <= fin:\n",
    "                    donnees_filtrees.append((ligne[0], date, int(ligne[3])))\n",
    "        return donnees_filtrees\n",
    "\n",
    "    def info(self, info, aggregation, time, location, value):\n",
    "        debut, fin = self.calculer_dates(time)\n",
    "        donnees_filtrees = self.extraire_donnees(info, location, debut, fin)\n",
    "        if not donnees_filtrees:\n",
    "            raise ValueError(\"Aucune donnée trouvée pour les paramètres spécifiés.\")\n",
    "        if aggregation == \"max\":\n",
    "            resultat = max(donnees_filtrees, key=lambda x: x[2])\n",
    "        elif aggregation == \"min\":\n",
    "            resultat = min(donnees_filtrees, key=lambda x: x[2])\n",
    "        elif aggregation == \"avg\":\n",
    "            somme = 0\n",
    "            for donnee in donnees_filtrees:\n",
    "                somme += donnee[2]\n",
    "            resultat = somme / len(donnees_filtrees)\n",
    "        return f\"{aggregation.capitalize()} des {info.replace('_', ' ')} entre {debut.date()} et {fin.date()} pour {', '.join(location)} est {resultat}.\"\n",
    "\n",
    "    def hist(self, info, time, location):\n",
    "        debut, fin = self.calculer_dates(time)\n",
    "        donnees_filtrees = self.extraire_donnees(info, location, debut, fin)\n",
    "        if not donnees_filtrees:\n",
    "            raise ValueError(\"Aucune donnée trouvée pour les paramètres spécifiés.\")\n",
    "        donnees_par_location = {}\n",
    "        for donnee in donnees_filtrees:\n",
    "            if donnee[0] not in donnees_par_location:\n",
    "                donnees_par_location[donnee[0]] = []\n",
    "            donnees_par_location[donnee[0]].append(donnee[2])\n",
    "        for location, donnees in donnees_par_location.items():\n",
    "            plt.hist(donnees, bins=10, alpha=0.5, label=location)\n",
    "        plt.legend(loc='upper right')\n",
    "        plt.title(f\"Histogramme des {info.replace('_', ' ')} entre {debut.date()} et {fin.date()}\")\n",
    "        plt.show()\n",
    "\n",
    "    def plt(self, info, time, location):\n",
    "        debut, fin = self.calculer_dates(time)\n",
    "        if not location:\n",
    "            location = list(set([ligne[0] for ligne in self.donnees[1:]]))\n",
    "        donnees_par_location = {}\n",
    "        for loc in location:\n",
    "            donnees_filtrees = self.extraire_donnees(info, [loc], debut, fin)\n",
    "            if donnees_filtrees:\n",
    "                donnees_par_location[loc] = donnees_filtrees\n",
    "        if not donnees_par_location:\n",
    "            raise ValueError(\"Aucune donnée trouvée pour les paramètres spécifiés.\")\n",
    "        for location, donnees in donnees_par_location.items():\n",
    "            x = [donnee[1] for donnee in donnees]\n",
    "            y = [donnee[2] for donnee in donnees]\n",
    "            plt.plot(x, y, label=location)\n",
    "        plt.legend(loc='upper left')\n",
    "        plt.title(f\"{info.replace('_', ' ')} entre {debut.date()} et {fin.date()}\")\n",
    "        plt.show()\n",
    "\n",
    "    def calculer_dates(self, time):\n",
    "        if time[0].isdigit():\n",
    "            debut = datetime.now() - timedelta(days=int(time[0]))\n",
    "        else:\n",
    "            debut = datetime.strptime(time[0], \"%d-%m-%Y\")\n",
    "        if time[1].isdigit():\n",
    "            fin = datetime.now() - timedelta(days=int(time[1]))\n",
    "        else:\n",
    "            fin = datetime.strptime(time[1], \"%d-%m-%Y\")\n",
    "        return debut, fin"
   ]
  },
  {
   "attachments": {},
   "cell_type": "markdown",
   "metadata": {},
   "source": [
    "## Test de la class `CmdStat`"
   ]
  },
  {
   "cell_type": "code",
   "execution_count": 37,
   "metadata": {},
   "outputs": [
    {
     "name": "stderr",
     "output_type": "stream",
     "text": [
      "usage: covidstat [-h]\n",
      "                 [--info {total_cases,total_deaths,total_icu_patients,total_hosp_patients,total_tests,total_positives,new_cases,new_deaths,new_icu_patients,new_hosp_patients,new_tests,new_positives}]\n",
      "                 [--hist {new_cases,new_deaths,new_icu_patients,new_hosp_patients,new_tests,new_positives}]\n",
      "                 [--plt {total_cases,total_deaths,total_icu_patients,total_hosp_patients,total_tests,total_positives,new_cases,new_deaths,new_icu_patients,new_hosp_patients,new_tests,new_positives}]\n",
      "                 [--aggregation {max,min,avg}]\n",
      "                 [--location LOCATION [LOCATION ...]] [--time TIME TIME]\n",
      "                 value\n",
      "covidstat: error: the following arguments are required: value\n"
     ]
    },
    {
     "ename": "SystemExit",
     "evalue": "2",
     "output_type": "error",
     "traceback": [
      "An exception has occurred, use %tb to see the full traceback.\n",
      "\u001b[0;31mSystemExit\u001b[0m\u001b[0;31m:\u001b[0m 2\n"
     ]
    }
   ],
   "source": [
    "covid_stat = CmdStat(\"covid_data.csv\")\n",
    "covid_stat.terminal()\n"
   ]
  },
  {
   "attachments": {},
   "cell_type": "markdown",
   "metadata": {},
   "source": [
    "Mettre la classe `Cmd Stat` ainsi que les potentielles méthodes utilitaires dans un module *covidstat.py* et l'invoquer dans le notebook."
   ]
  },
  {
   "cell_type": "code",
   "execution_count": 41,
   "metadata": {},
   "outputs": [
    {
     "name": "stderr",
     "output_type": "stream",
     "text": [
      "usage: ipykernel_launcher.py [-h]\n",
      "                             [--info {total_cases,total_deaths,total_icu_patients,total_hosp_patients,total_tests,total_positives,new_cases,new_deaths,new_icu_patients,new_hosp_patients,new_tests,new_positives}]\n",
      "                             [--hist {new_cases,new_deaths,new_icu_patients,new_hosp_patients,new_tests,new_positives}]\n",
      "                             [--plt {total_cases,total_deaths,total_icu_patients,total_hosp_patients,total_tests,total_positives,new_cases,new_deaths,new_icu_patients,new_hosp_patients,new_tests,new_positives}]\n",
      "                             [--aggregation {max,min,avg}]\n",
      "                             [--location LOCATION [LOCATION ...]]\n",
      "                             [--time TIME TIME]\n",
      "                             value\n",
      "ipykernel_launcher.py: error: the following arguments are required: value\n"
     ]
    },
    {
     "ename": "SystemExit",
     "evalue": "2",
     "output_type": "error",
     "traceback": [
      "An exception has occurred, use %tb to see the full traceback.\n",
      "\u001b[0;31mSystemExit\u001b[0m\u001b[0;31m:\u001b[0m 2\n"
     ]
    }
   ],
   "source": [
    "from covidstat import CmdStat\n",
    "\n",
    "covid_stat = CmdStat(\"covid_data.csv\")\n",
    "covid_stat.terminal()"
   ]
  }
 ],
 "metadata": {
  "kernelspec": {
   "display_name": "Python 3",
   "language": "python",
   "name": "python3"
  },
  "language_info": {
   "codemirror_mode": {
    "name": "ipython",
    "version": 3
   },
   "file_extension": ".py",
   "mimetype": "text/x-python",
   "name": "python",
   "nbconvert_exporter": "python",
   "pygments_lexer": "ipython3",
   "version": "3.7.1"
  },
  "orig_nbformat": 4
 },
 "nbformat": 4,
 "nbformat_minor": 2
}
