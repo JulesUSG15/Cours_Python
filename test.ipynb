{
 "cells": [
  {
   "cell_type": "code",
   "execution_count": 1,
   "metadata": {},
   "outputs": [
    {
     "name": "stdout",
     "output_type": "stream",
     "text": [
      "0\n"
     ]
    }
   ],
   "source": [
    "a=0\n",
    "print(a)"
   ]
  },
  {
   "cell_type": "code",
   "execution_count": 2,
   "metadata": {},
   "outputs": [
    {
     "name": "stdout",
     "output_type": "stream",
     "text": [
      "1\n"
     ]
    }
   ],
   "source": [
    "a = 1\n",
    "print (a)"
   ]
  },
  {
   "cell_type": "code",
   "execution_count": 3,
   "metadata": {},
   "outputs": [
    {
     "name": "stdout",
     "output_type": "stream",
     "text": [
      "1\n"
     ]
    }
   ],
   "source": [
    "print (a)"
   ]
  },
  {
   "cell_type": "code",
   "execution_count": 12,
   "metadata": {},
   "outputs": [
    {
     "name": "stdout",
     "output_type": "stream",
     "text": [
      "[0]\n"
     ]
    }
   ],
   "source": [
    "a = [0]\n",
    "b=a\n",
    "a=[1]\n",
    "print (b)"
   ]
  },
  {
   "cell_type": "code",
   "execution_count": 9,
   "metadata": {},
   "outputs": [
    {
     "name": "stdout",
     "output_type": "stream",
     "text": [
      "pair\n"
     ]
    }
   ],
   "source": [
    "a = int(input(\"Entrez un chiffre : \"))\n",
    "if a%2 == 0:\n",
    "    print(\"pair\")\n",
    "else:\n",
    "    print(\"impair\")"
   ]
  },
  {
   "cell_type": "code",
   "execution_count": 27,
   "metadata": {},
   "outputs": [
    {
     "name": "stdout",
     "output_type": "stream",
     "text": [
      "n'est pas premier\n",
      "est premier\n"
     ]
    }
   ],
   "source": [
    "\n",
    "a = int(input(\"Entrez un chiffre : \"))\n",
    "for i in range(2, a):\n",
    "    while a%i == 0:\n",
    "        print(\"n'est pas premier\")\n",
    "        break\n",
    "    else:\n",
    "        print(\"est premier\")\n",
    "        break\n",
    "        "
   ]
  },
  {
   "cell_type": "code",
   "execution_count": 31,
   "metadata": {},
   "outputs": [
    {
     "name": "stdout",
     "output_type": "stream",
     "text": [
      "Vosu avez 9 essais pour trouver le nombre\n",
      "250 trop petit\n",
      "1 trop petit\n",
      "1 trop petit\n",
      "1 trop petit\n",
      "1 trop petit\n",
      "1 trop petit\n",
      "1 trop petit\n",
      "1 trop petit\n",
      "1 trop petit\n",
      "perdu\n"
     ]
    }
   ],
   "source": [
    "import random\n",
    "print (\"Vous avez 9 essais pour trouver le nombre\")\n",
    "a = random.randint(0,500)\n",
    "for i in range(0,9):\n",
    "    b = int(input(\"Entrez un chiffre : \"))\n",
    "    if b > a:\n",
    "        print(b,\" est trop grand\")\n",
    "    elif b < a:\n",
    "        print(b,\" est trop petit\")\n",
    "    else:\n",
    "        print(\"Bravo vous avez trouvé\",b)\n",
    "        break\n",
    "else:\n",
    "    print(\"perdu\")\n",
    "    "
   ]
  }
 ],
 "metadata": {
  "kernelspec": {
   "display_name": "base",
   "language": "python",
   "name": "python3"
  },
  "language_info": {
   "codemirror_mode": {
    "name": "ipython",
    "version": 3
   },
   "file_extension": ".py",
   "mimetype": "text/x-python",
   "name": "python",
   "nbconvert_exporter": "python",
   "pygments_lexer": "ipython3",
   "version": "3.7.1"
  },
  "orig_nbformat": 4
 },
 "nbformat": 4,
 "nbformat_minor": 2
}
