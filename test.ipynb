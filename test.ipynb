{
 "cells": [
  {
   "cell_type": "code",
   "execution_count": 1,
   "metadata": {},
   "outputs": [
    {
     "name": "stdout",
     "output_type": "stream",
     "text": [
      "0\n"
     ]
    }
   ],
   "source": [
    "a=0\n",
    "print(a)"
   ]
  },
  {
   "cell_type": "code",
   "execution_count": null,
   "metadata": {},
   "outputs": [],
   "source": []
  },
  {
   "cell_type": "code",
   "execution_count": 2,
   "metadata": {},
   "outputs": [
    {
     "name": "stdout",
     "output_type": "stream",
     "text": [
      "1\n"
     ]
    }
   ],
   "source": [
    "a = 1\n",
    "print (a)"
   ]
  },
  {
   "cell_type": "code",
   "execution_count": 3,
   "metadata": {},
   "outputs": [
    {
     "name": "stdout",
     "output_type": "stream",
     "text": [
      "1\n"
     ]
    }
   ],
   "source": [
    "print (a)"
   ]
  },
  {
   "cell_type": "code",
   "execution_count": 12,
   "metadata": {},
   "outputs": [
    {
     "name": "stdout",
     "output_type": "stream",
     "text": [
      "[0]\n"
     ]
    }
   ],
   "source": [
    "a = [0]\n",
    "b=a\n",
    "a=[1]\n",
    "print (b)"
   ]
  },
  {
   "cell_type": "code",
   "execution_count": 9,
   "metadata": {},
   "outputs": [
    {
     "name": "stdout",
     "output_type": "stream",
     "text": [
      "pair\n"
     ]
    }
   ],
   "source": [
    "a = int(input(\"Entrez un chiffre : \"))\n",
    "if a%2 == 0:\n",
    "    print(\"pair\")\n",
    "else:\n",
    "    print(\"impair\")"
   ]
  },
  {
   "cell_type": "code",
   "execution_count": 27,
   "metadata": {},
   "outputs": [
    {
     "name": "stdout",
     "output_type": "stream",
     "text": [
      "n'est pas premier\n",
      "est premier\n"
     ]
    }
   ],
   "source": [
    "\n",
    "a = int(input(\"Entrez un chiffre : \"))\n",
    "for i in range(2, a):\n",
    "    while a%i == 0:\n",
    "        print(\"n'est pas premier\")\n",
    "        break\n",
    "    else:\n",
    "        print(\"est premier\")\n",
    "        break\n",
    "        "
   ]
  },
  {
   "cell_type": "code",
   "execution_count": 32,
   "metadata": {},
   "outputs": [
    {
     "name": "stdout",
     "output_type": "stream",
     "text": [
      "Vous avez 9 essais pour trouver le nombre\n",
      "250  est trop petit\n",
      "375  est trop grand\n",
      "312  est trop petit\n",
      "345  est trop petit\n",
      "360  est trop petit\n",
      "367  est trop petit\n",
      "371  est trop grand\n",
      "369  est trop petit\n",
      "Bravo vous avez trouvé 370\n"
     ]
    }
   ],
   "source": [
    "import random\n",
    "print (\"Vous avez 9 essais pour trouver le nombre\")\n",
    "a = random.randint(0,500)\n",
    "for i in range(0,9):\n",
    "    b = int(input(\"Entrez un chiffre : \"))\n",
    "    if b > a:\n",
    "        print(b,\" est trop grand\")\n",
    "    elif b < a:\n",
    "        print(b,\" est trop petit\")\n",
    "    else:\n",
    "        print(\"Bravo vous avez trouvé\",b)\n",
    "        break\n",
    "else:\n",
    "    print(\"perdu\")\n",
    "    "
   ]
  },
  {
   "cell_type": "code",
   "execution_count": 8,
   "metadata": {},
   "outputs": [
    {
     "name": "stdout",
     "output_type": "stream",
     "text": [
      "4\n",
      "9\n",
      "10\n",
      "[None]\n",
      "['__add__', '__class__', '__contains__', '__delattr__', '__delitem__', '__dir__', '__doc__', '__eq__', '__format__', '__ge__', '__getattribute__', '__getitem__', '__gt__', '__hash__', '__iadd__', '__imul__', '__init__', '__init_subclass__', '__iter__', '__le__', '__len__', '__lt__', '__mul__', '__ne__', '__new__', '__reduce__', '__reduce_ex__', '__repr__', '__reversed__', '__rmul__', '__setattr__', '__setitem__', '__sizeof__', '__str__', '__subclasshook__', 'append', 'clear', 'copy', 'count', 'extend', 'index', 'insert', 'pop', 'remove', 'reverse', 'sort']\n",
      "[10, 9, 8, 7, 6, 5, 4, 3, 2, 1]\n"
     ]
    }
   ],
   "source": [
    "A= [1,2,3,4,5,6,7,8,9,10]\n",
    "B= [1,2,3,4,5,6,7,8,9,10]\n",
    "D=[None]\n",
    "\n",
    "C=A[1]+B[1]\n",
    "print(C)\n",
    "print(A[-2])\n",
    "print(len(A)) #longueur du tableau\n",
    "print(D) # tableau vide et c'est différent de tab[]\n",
    "print(dir(A)) #fonctionnalités du tableau\n",
    "reverse = A[::-1] #inverser le tableau\n",
    "print(reverse)\n"
   ]
  },
  {
   "cell_type": "code",
   "execution_count": 12,
   "metadata": {},
   "outputs": [],
   "source": [
    "bd = range(1000)\n",
    "bd = [i for i in bd if i%3==0 or i%5==0]"
   ]
  },
  {
   "cell_type": "code",
   "execution_count": 11,
   "metadata": {},
   "outputs": [
    {
     "name": "stdout",
     "output_type": "stream",
     "text": [
      "[5, 12, 56, 1, 9, 16, 8]\n",
      "[1, 5, 8, 9, 12, 16, 56]\n"
     ]
    }
   ],
   "source": [
    "tab=[5,12,56,1,9,16,8]\n",
    "print(sorted(tab))\n",
    "tab.sort()\n",
    "print(tab)"
   ]
  }
 ],
 "metadata": {
  "kernelspec": {
   "display_name": "base",
   "language": "python",
   "name": "python3"
  },
  "language_info": {
   "codemirror_mode": {
    "name": "ipython",
    "version": 3
   },
   "file_extension": ".py",
   "mimetype": "text/x-python",
   "name": "python",
   "nbconvert_exporter": "python",
   "pygments_lexer": "ipython3",
   "version": "3.7.1"
  },
  "orig_nbformat": 4
 },
 "nbformat": 4,
 "nbformat_minor": 2
}
